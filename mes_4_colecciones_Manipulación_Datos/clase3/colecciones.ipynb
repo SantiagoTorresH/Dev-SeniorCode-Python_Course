{
 "cells": [
  {
   "cell_type": "markdown",
   "metadata": {},
   "source": [
    "# **Las colecciones en Python**\n",
    "\n",
    "Las colecciones en Python son estructura de datos que permiten almacenar y manipular conjuntos de valores de manera eficiente. los cuatro principales son:"
   ]
  },
  {
   "cell_type": "markdown",
   "metadata": {},
   "source": [
    "## **Listas** (`List`)\n",
    "\n",
    "Las listas son colecciones ordenadas y mutables que pueden contener elementos de diferentes tipos.\n",
    "### **Características:**\n",
    "- Permiten duplicados.\n",
    "- Son indexadas (Pueden acceder a elementos por su posición). \n",
    "- Se puede modificar (Agregar, Eliminar o cambiar un elemento).\n",
    "- Son datos ordenados."
   ]
  },
  {
   "cell_type": "code",
   "execution_count": 27,
   "metadata": {},
   "outputs": [
    {
     "name": "stdout",
     "output_type": "stream",
     "text": [
      "mazanas\n"
     ]
    }
   ],
   "source": [
    "frutas = [\"mazanas\", \"banano\", \"cereza\"]\n",
    "frutas.append(\"naranja\")    #Agrega un elemento al final\n",
    "frutas.remove(\"banano\")     #Eliminar un elemento\n",
    "print(frutas[0])"
   ]
  },
  {
   "cell_type": "markdown",
   "metadata": {},
   "source": [
    "# Tuplas (`tuple`)\n",
    "\n",
    "Las tuplas sin similares a listas, pero **inmutables**, es decir, no se pueden modificar después de su creación.\n",
    "\n",
    "## Características:\n",
    "- Permiten duplicados.\n",
    "- Son indexadas (Pueden acceder a elementos por su posición). \n",
    "- No se pueden modificar después de su creación."
   ]
  },
  {
   "cell_type": "code",
   "execution_count": 18,
   "metadata": {},
   "outputs": [
    {
     "name": "stdout",
     "output_type": "stream",
     "text": [
      "10\n"
     ]
    }
   ],
   "source": [
    "coordenadas = (10,30)\n",
    "print(coordenadas[0])   #Accedemos al primer elemento\n",
    "#coordenadas[0] = 20     # X Esto genera un error (TypeError)"
   ]
  },
  {
   "cell_type": "markdown",
   "metadata": {},
   "source": [
    "# Conjuntos (`set`)\n",
    "\n",
    "Los `set` son colecciones **no ordenadas** de elementos **únicos**.\n",
    "\n",
    "## Características:\n",
    "- No permite duplicados.\n",
    "- No tiene índices (No se puede acceder a un elemento por su posición). \n",
    "- Se pueden modificar (agregar o eliminar elementos).\n"
   ]
  },
  {
   "cell_type": "code",
   "execution_count": 36,
   "metadata": {},
   "outputs": [
    {
     "name": "stdout",
     "output_type": "stream",
     "text": [
      "{1, 2, 4, 5}\n"
     ]
    }
   ],
   "source": [
    "numero = {1,2,3,4,5}\n",
    "numero.add(5)       #Agregar un elemento\n",
    "numero.remove(3)    #Eliminar un elemento\n",
    "print(numero)"
   ]
  },
  {
   "cell_type": "markdown",
   "metadata": {},
   "source": [
    "### Actualizar"
   ]
  },
  {
   "cell_type": "code",
   "execution_count": 42,
   "metadata": {},
   "outputs": [
    {
     "name": "stdout",
     "output_type": "stream",
     "text": [
      "{1, 2, 3, 4, 5, 7, 8, 9}\n"
     ]
    }
   ],
   "source": [
    "numero = {1,2,3,4,5}\n",
    "numero.update([7,8,9])   \n",
    "print(numero)"
   ]
  },
  {
   "cell_type": "markdown",
   "metadata": {},
   "source": [
    "### Eliminar daots duplicados"
   ]
  },
  {
   "cell_type": "code",
   "execution_count": 19,
   "metadata": {},
   "outputs": [
    {
     "name": "stdout",
     "output_type": "stream",
     "text": [
      "{1, 2, 3, 4, 5, 6, 7}\n"
     ]
    }
   ],
   "source": [
    "numeros = [1,2,3,4,4,5,6,6,7,7]     #Lista de numeros\n",
    "numeros_unicos = set(numeros)\n",
    "print(numeros_unicos)"
   ]
  },
  {
   "cell_type": "markdown",
   "metadata": {},
   "source": [
    "### Operacibes matemáticas con conjuntos"
   ]
  },
  {
   "cell_type": "code",
   "execution_count": 23,
   "metadata": {},
   "outputs": [
    {
     "name": "stdout",
     "output_type": "stream",
     "text": [
      "{2, 4, 6}\n"
     ]
    }
   ],
   "source": [
    "pares = {2,4,6,8}\n",
    "inpares = {1,3,5,7,9}\n",
    "numeros = {1,2,3,4,5,6}\n",
    "\n",
    "comunes = numeros & pares\n",
    "union_numeros = pares | inpares\n",
    "diferentes = numeros - inpares\n",
    "\n",
    "print(diferentes)"
   ]
  },
  {
   "cell_type": "markdown",
   "metadata": {},
   "source": [
    "### Eliminar eficiente"
   ]
  },
  {
   "cell_type": "code",
   "execution_count": 31,
   "metadata": {},
   "outputs": [
    {
     "name": "stdout",
     "output_type": "stream",
     "text": [
      "{'cereza', 'mazanas', 'banano'}\n"
     ]
    }
   ],
   "source": [
    "frutas = {\"mazanas\", \"banano\", \"cereza\"}\n",
    "frutas.discard(\"bananos\")     #Eliminar un elemento\n",
    "print(frutas)"
   ]
  },
  {
   "cell_type": "markdown",
   "metadata": {},
   "source": [
    "# Diccionarios(`dict`)\n",
    "\n",
    "Los `dict` almacenan pares **índice-valor**, permite acceder a los valores atreves de un índice único.\n",
    "\n",
    "## Características:\n",
    "- No permite índices duplicados.\n",
    "- los valores se puede modificar. \n",
    "- Son rápidos de búsqueda de valor."
   ]
  },
  {
   "cell_type": "code",
   "execution_count": null,
   "metadata": {},
   "outputs": [
    {
     "name": "stdout",
     "output_type": "stream",
     "text": [
      "Juan\n",
      "{'nombre': 'Juan', 'edad': 28, 'ciudad': 'Bogota', 'profesion': 'Ingeniero'}\n"
     ]
    }
   ],
   "source": [
    "persona = {\n",
    "    \"nombre\":   \"Juan\",\n",
    "    \"edad\"  :   27,\n",
    "    \"ciudad\":   \"Bogota\"\n",
    "}\n",
    "print(persona[\"nombre\"])    #Aceder al valor de la clave \"nombre\"\n",
    "persona[\"edad\"] = 28        #Modificar un valor\n",
    "persona[\"profesion\"] = \"Ingeniero\"  #Agregar un numero par indice/Valor\n",
    "print(persona)"
   ]
  }
 ],
 "metadata": {
  "kernelspec": {
   "display_name": "Python 3",
   "language": "python",
   "name": "python3"
  },
  "language_info": {
   "codemirror_mode": {
    "name": "ipython",
    "version": 3
   },
   "file_extension": ".py",
   "mimetype": "text/x-python",
   "name": "python",
   "nbconvert_exporter": "python",
   "pygments_lexer": "ipython3",
   "version": "3.13.2"
  }
 },
 "nbformat": 4,
 "nbformat_minor": 2
}
