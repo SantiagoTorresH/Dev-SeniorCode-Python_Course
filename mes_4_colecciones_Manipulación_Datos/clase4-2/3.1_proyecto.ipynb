{
 "cells": [
  {
   "cell_type": "code",
   "execution_count": null,
   "metadata": {},
   "outputs": [
    {
     "ename": "ModuleNotFoundError",
     "evalue": "No module named 'matplotlib'",
     "output_type": "error",
     "traceback": [
      "\u001b[31m---------------------------------------------------------------------------\u001b[39m",
      "\u001b[31mModuleNotFoundError\u001b[39m                       Traceback (most recent call last)",
      "\u001b[36mCell\u001b[39m\u001b[36m \u001b[39m\u001b[32mIn[11]\u001b[39m\u001b[32m, line 3\u001b[39m\n\u001b[32m      1\u001b[39m \u001b[38;5;28;01mimport\u001b[39;00m\u001b[38;5;250m \u001b[39m\u001b[34;01mitertools\u001b[39;00m\n\u001b[32m      2\u001b[39m \u001b[38;5;28;01mimport\u001b[39;00m\u001b[38;5;250m \u001b[39m\u001b[34;01mcollections\u001b[39;00m\n\u001b[32m----> \u001b[39m\u001b[32m3\u001b[39m \u001b[38;5;28;01mimport\u001b[39;00m\u001b[38;5;250m \u001b[39m\u001b[34;01mmatplotlib\u001b[39;00m\u001b[34;01m.\u001b[39;00m\u001b[34;01mpyplot\u001b[39;00m\u001b[38;5;250m \u001b[39m\u001b[38;5;28;01mas\u001b[39;00m\u001b[38;5;250m \u001b[39m\u001b[34;01mplt\u001b[39;00m \n\u001b[32m      5\u001b[39m \u001b[38;5;66;03m#simulaicon de resenas\u001b[39;00m\n\u001b[32m      6\u001b[39m resenas = [\n\u001b[32m      7\u001b[39m     {\u001b[33m\"\u001b[39m\u001b[33musuario\u001b[39m\u001b[33m\"\u001b[39m: \u001b[33m\"\u001b[39m\u001b[33mAna\u001b[39m\u001b[33m\"\u001b[39m,\u001b[33m\"\u001b[39m\u001b[33mpuntaje\u001b[39m\u001b[33m\"\u001b[39m:\u001b[32m5\u001b[39m, \u001b[33m\"\u001b[39m\u001b[33mcomentario\u001b[39m\u001b[33m\"\u001b[39m:\u001b[33m\"\u001b[39m\u001b[33mExelente\u001b[39m\u001b[33m\"\u001b[39m, }\n\u001b[32m      8\u001b[39m ]\n",
      "\u001b[31mModuleNotFoundError\u001b[39m: No module named 'matplotlib'"
     ]
    }
   ],
   "source": [
    "import itertools\n",
    "import collections\n",
    "import matplotlib.pyplot as plt \n",
    "\n",
    "#simulaicon de resenas\n",
    "resenas = [\n",
    "    {\"usuario\": \"Ana\",\"puntaje\":5, \"comentario\":\"Exelente\", }\n",
    "]\n",
    "\n",
    "print(resenas)"
   ]
  },
  {
   "cell_type": "code",
   "execution_count": 4,
   "metadata": {},
   "outputs": [
    {
     "name": "stdout",
     "output_type": "stream",
     "text": [
      "palabras mas frecuentes:\n",
      "[('exelente', 1)]\n"
     ]
    }
   ],
   "source": [
    "#1. contador palabras clave en los comentarios, excluyendo palabras cortas\n",
    "\n",
    "palabras = []\n",
    "for r in resenas:\n",
    "    # palabras.extend(r[\"Comentario\".lower().split() ])\n",
    "    palabras.extend([p for p in r[\"comentario\"].lower().split() if len(p) > 3 ])\n",
    "    \n",
    "conteo_palabras = collections.Counter(palabras)\n",
    "print(\"palabras mas frecuentes:\")\n",
    "print(conteo_palabras.most_common(5))    "
   ]
  },
  {
   "cell_type": "markdown",
   "metadata": {},
   "source": [
    "### 2. agrupacion resenas por puntaje\n"
   ]
  },
  {
   "cell_type": "code",
   "execution_count": null,
   "metadata": {},
   "outputs": [
    {
     "name": "stdout",
     "output_type": "stream",
     "text": [
      "Puntaje:5:['Exelente']\n"
     ]
    }
   ],
   "source": [
    "grupos_resenas = collections.defaultdict(list)\n",
    "for r in resenas:\n",
    "    grupos_resenas[r[\"puntaje\"]].append(r[\"comentario\"])\n",
    "    \n",
    "print(\"Resenas agrupadas por puntaje\")    \n",
    "for puntaje, comentarios in grupos_resenas.items():\n",
    "    print(f\"Puntaje:{puntaje}:{comentarios}\")    \n",
    "    "
   ]
  },
  {
   "cell_type": "code",
   "execution_count": null,
   "metadata": {},
   "outputs": [],
   "source": [
    "# 3 Generador combinaciones de palabras clave\n",
    "print(\"Combinacion de palabras clave con comentario\")\n",
    "combinaciones = itertools.combinacions(conteo_palabras.keys(),2)\n",
    "print(list(combinaciones))"
   ]
  },
  {
   "cell_type": "code",
   "execution_count": 8,
   "metadata": {},
   "outputs": [
    {
     "name": "stdout",
     "output_type": "stream",
     "text": [
      "Respuestas automaticas\n",
      "Gracias por tu comentario! -Nos a legra que te haya gustado -Esperamos no vuelvas mas \n",
      "Gracias por tu comentario! -Nos a legra que te haya gustado -Esperamos no vuelvas mas \n",
      "Gracias por tu comentario! -Nos a legra que te haya gustado -Esperamos no vuelvas mas \n",
      "Gracias por tu comentario! -Nos a legra que te haya gustado -Esperamos no vuelvas mas \n",
      "Gracias por tu comentario! -Nos a legra que te haya gustado -Esperamos no vuelvas mas \n",
      "Gracias por tu comentario! -Nos a legra que te haya gustado -Esperamos no vuelvas mas \n"
     ]
    }
   ],
   "source": [
    "# 4. Generar una respuesta automatica\n",
    "respuestas = [\"Gracias por tu comentario!\", \"Nos a legra que te haya gustado\", \"Esperamos no vuelvas mas \" ]\n",
    "\n",
    "permutaciones_respuestas = itertools.permutations(respuestas,2 )\n",
    "print(\"Respuestas automaticas\")\n",
    "\n",
    "for respuesta in permutaciones_respuestas:\n",
    "    print(\" -\".join(respuestas))\n"
   ]
  },
  {
   "cell_type": "code",
   "execution_count": 12,
   "metadata": {},
   "outputs": [
    {
     "ename": "NameError",
     "evalue": "name 'plt' is not defined",
     "output_type": "error",
     "traceback": [
      "\u001b[31m---------------------------------------------------------------------------\u001b[39m",
      "\u001b[31mNameError\u001b[39m                                 Traceback (most recent call last)",
      "\u001b[36mCell\u001b[39m\u001b[36m \u001b[39m\u001b[32mIn[12]\u001b[39m\u001b[32m, line 3\u001b[39m\n\u001b[32m      1\u001b[39m \u001b[38;5;28;01mimport\u001b[39;00m\u001b[38;5;250m \u001b[39m\u001b[34;01mrandom\u001b[39;00m \n\u001b[32m      2\u001b[39m \u001b[38;5;66;03m# 5. Graficar de barras palabras las frecuentes\u001b[39;00m\n\u001b[32m----> \u001b[39m\u001b[32m3\u001b[39m \u001b[43mplt\u001b[49m.Figure(figsize=(\u001b[32m16\u001b[39m,\u001b[32m10\u001b[39m))\n\u001b[32m      4\u001b[39m colores = [\u001b[33m\"\u001b[39m\u001b[33m#\u001b[39m\u001b[33m\"\u001b[39m + \u001b[33m'\u001b[39m\u001b[33m'\u001b[39m.join(random.choices(\u001b[33m'\u001b[39m\u001b[33m0123456789ABCDEF\u001b[39m\u001b[33m'\u001b[39m, K=\u001b[32m6\u001b[39m)) \u001b[38;5;28;01mfor\u001b[39;00m _ \u001b[38;5;129;01min\u001b[39;00m \u001b[38;5;28mrange\u001b[39m(\u001b[32m10\u001b[39m)]\n\u001b[32m      5\u001b[39m plt.bar(*\u001b[38;5;28mzip\u001b[39m(*conteo_palabras.most_common(\u001b[32m5\u001b[39m)))\n",
      "\u001b[31mNameError\u001b[39m: name 'plt' is not defined"
     ]
    }
   ],
   "source": [
    "import random \n",
    "# 5. Graficar de barras palabras las frecuentes\n",
    "plt.Figure(figsize=(16,10))\n",
    "colores = [\"#\" + ''.join(random.choices('0123456789ABCDEF', K=6)) for _ in range(10)]\n",
    "plt.bar(*zip(*conteo_palabras.most_common(5)))\n",
    "plt.xlabel(\"palabras\")\n",
    "plt.ylabel(\"frecuencias\")\n",
    "\n",
    "plt.title(\"Top 5 palabras mas frecuentes \")\n",
    "plt.show() \n"
   ]
  },
  {
   "cell_type": "code",
   "execution_count": null,
   "metadata": {},
   "outputs": [
    {
     "ename": "SyntaxError",
     "evalue": "invalid syntax. Perhaps you forgot a comma? (4226529332.py, line 2)",
     "output_type": "error",
     "traceback": [
      "  \u001b[36mCell\u001b[39m\u001b[36m \u001b[39m\u001b[32mIn[10]\u001b[39m\u001b[32m, line 2\u001b[39m\n\u001b[31m    \u001b[39m\u001b[31mpunntajes = [r[]]\u001b[39m\n                 ^\n\u001b[31mSyntaxError\u001b[39m\u001b[31m:\u001b[39m invalid syntax. Perhaps you forgot a comma?\n"
     ]
    }
   ],
   "source": [
    "# 6. grafica de pastes de puntajes\n",
    "punntajes = [r[\"puntajes\"] for r in resenas]\n",
    "conteo_puntajes = collections.Counter(puntaje)\n",
    "\n",
    "plt.Figure(figsize=(16,10))\n",
    "plt.pie(conteo_puntajes.values(), labels=conteo_puntajes.keys(), autopct='%1.1f%%', startangle=90)\n",
    "plt.title(\"Distribucion de puntajes por resena \")\n",
    "plt.show()\n",
    "\n",
    "\n"
   ]
  },
  {
   "cell_type": "code",
   "execution_count": null,
   "metadata": {},
   "outputs": [],
   "source": []
  }
 ],
 "metadata": {
  "kernelspec": {
   "display_name": "Python 3",
   "language": "python",
   "name": "python3"
  },
  "language_info": {
   "codemirror_mode": {
    "name": "ipython",
    "version": 3
   },
   "file_extension": ".py",
   "mimetype": "text/x-python",
   "name": "python",
   "nbconvert_exporter": "python",
   "pygments_lexer": "ipython3",
   "version": "3.13.0"
  }
 },
 "nbformat": 4,
 "nbformat_minor": 2
}
