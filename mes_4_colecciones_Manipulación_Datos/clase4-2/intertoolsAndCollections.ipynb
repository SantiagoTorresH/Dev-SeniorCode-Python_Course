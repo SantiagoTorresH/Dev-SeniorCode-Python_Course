{
 "cells": [
  {
   "cell_type": "markdown",
   "metadata": {},
   "source": [
    "1.Introduccion\n",
    "2.tecnicas\n",
    "2.1 Iteradores infinitos"
   ]
  },
  {
   "cell_type": "code",
   "execution_count": 7,
   "metadata": {},
   "outputs": [
    {
     "name": "stdout",
     "output_type": "stream",
     "text": [
      "1\n",
      "3\n",
      "5\n",
      "7\n",
      "9\n"
     ]
    }
   ],
   "source": [
    "import itertools\n",
    "contador = itertools.count(start = 1, step = 2)\n",
    "\n",
    "for _ in range(5):\n",
    "    print(next(contador))"
   ]
  },
  {
   "cell_type": "code",
   "execution_count": 3,
   "metadata": {},
   "outputs": [
    {
     "name": "stdout",
     "output_type": "stream",
     "text": [
      "Rojo\n",
      "verde\n",
      "azul\n",
      "Rojo\n",
      "verde\n",
      "azul\n"
     ]
    }
   ],
   "source": [
    "ciclo = itertools.cycle([\"Rojo\", \"verde\", \"azul\" ])\n",
    "\n",
    "for _ in range(6):\n",
    "    print(next(ciclo))"
   ]
  },
  {
   "cell_type": "code",
   "execution_count": null,
   "metadata": {},
   "outputs": [
    {
     "name": "stdout",
     "output_type": "stream",
     "text": [
      "[['HOlaa', 'adio'], ['HOlaa', 'adio'], ['HOlaa', 'adio'], ['HOlaa', 'adio'], ['HOlaa', 'adio']]\n"
     ]
    }
   ],
   "source": [
    "repetir = itertools.repeat([\"HOlaa\", \"adios\"],5)\n",
    "\n",
    "print(list(repetir))"
   ]
  },
  {
   "cell_type": "markdown",
   "metadata": {},
   "source": [
    "### 2.2 combinaciones y permutaciones "
   ]
  },
  {
   "cell_type": "code",
   "execution_count": 10,
   "metadata": {},
   "outputs": [
    {
     "name": "stdout",
     "output_type": "stream",
     "text": [
      "[('A', 'B', 'c'), ('A', 'c', 'B'), ('B', 'A', 'c'), ('B', 'c', 'A'), ('c', 'A', 'B'), ('c', 'B', 'A')]\n"
     ]
    }
   ],
   "source": [
    "import itertools\n",
    "dato = [\"A\",\"B\",\"c\"]\n",
    "\n",
    "permutacion = list(itertools.permutations(dato,3 ))\n",
    "print(permutacion)\n",
    "\n"
   ]
  },
  {
   "cell_type": "code",
   "execution_count": 11,
   "metadata": {},
   "outputs": [
    {
     "name": "stdout",
     "output_type": "stream",
     "text": [
      "[('A', 'B'), ('A', 'c'), ('B', 'c')]\n"
     ]
    }
   ],
   "source": [
    "combinacion = list(itertools.combinations(dato,2))\n",
    "\n",
    "print(combinacion)\n"
   ]
  },
  {
   "cell_type": "code",
   "execution_count": 12,
   "metadata": {},
   "outputs": [
    {
     "name": "stdout",
     "output_type": "stream",
     "text": [
      "[('A', 'A', 'A'), ('A', 'A', 'B'), ('A', 'A', 'c'), ('A', 'B', 'B'), ('A', 'B', 'c'), ('A', 'c', 'c'), ('B', 'B', 'B'), ('B', 'B', 'c'), ('B', 'c', 'c'), ('c', 'c', 'c')]\n"
     ]
    }
   ],
   "source": [
    "combinacionConRepeticion = list(itertools.combinations_with_replacement(dato,3))\n",
    "print(combinacionConRepeticion)"
   ]
  },
  {
   "cell_type": "markdown",
   "metadata": {},
   "source": [
    "### 2.3 Agrupacion y segmentacion de datos"
   ]
  },
  {
   "cell_type": "code",
   "execution_count": 13,
   "metadata": {},
   "outputs": [
    {
     "name": "stdout",
     "output_type": "stream",
     "text": [
      "clave 1: [(1, 'A'), (1, 'B')]\n",
      "clave 2: [(2, 'C'), (2, 'D')]\n",
      "clave 3: [(3, 'E')]\n"
     ]
    }
   ],
   "source": [
    "datos = [(1,\"A\"),(1,\"B\"),(2,\"C\"),(2,\"D\"),(3,\"E\")]\n",
    "\n",
    "for clave, grupo in itertools.groupby(datos, key= lambda x:x[0]):\n",
    "    print(f\"clave {clave}: {list(grupo)}\")\n",
    "    "
   ]
  },
  {
   "cell_type": "code",
   "execution_count": 14,
   "metadata": {},
   "outputs": [
    {
     "name": "stdout",
     "output_type": "stream",
     "text": [
      "[1, 2, 3, 4, 5, 6]\n",
      "[1, 2, 3, 4, 5, 6]\n"
     ]
    }
   ],
   "source": [
    "datos = iter([1,2,3,4,5,6])\n",
    "it1, it2 = itertools.tee(datos,2)\n",
    "\n",
    "print(list(it1))\n",
    "print(list(it2))"
   ]
  },
  {
   "cell_type": "markdown",
   "metadata": {},
   "source": [
    "### 2.4 Productos CArtesiano y concatenacion"
   ]
  },
  {
   "cell_type": "code",
   "execution_count": 15,
   "metadata": {},
   "outputs": [
    {
     "name": "stdout",
     "output_type": "stream",
     "text": [
      "[('Rojo', 's'), ('Rojo', 'm'), ('verde', 's'), ('verde', 'm')]\n"
     ]
    }
   ],
   "source": [
    "colores = [\"Rojo\", \"verde\"]\n",
    "tallas = [\"s\",\"m\"]\n",
    "\n",
    "print(list(itertools.product(colores, tallas)))"
   ]
  },
  {
   "cell_type": "code",
   "execution_count": 16,
   "metadata": {},
   "outputs": [
    {
     "name": "stdout",
     "output_type": "stream",
     "text": [
      "[1, 2, 3, 'A', 'B']\n"
     ]
    }
   ],
   "source": [
    "a = [1,2,3]\n",
    "b = [\"A\",\"B\"]\n",
    "\n",
    "print(list(itertools.chain(a,b)))"
   ]
  },
  {
   "cell_type": "markdown",
   "metadata": {},
   "source": [
    "### 3.Tecnicas Avanzadas con collections"
   ]
  },
  {
   "cell_type": "code",
   "execution_count": 17,
   "metadata": {},
   "outputs": [
    {
     "name": "stdout",
     "output_type": "stream",
     "text": [
      "defaultdict(<class 'list'>, {'A': [1], 'B': [2]})\n"
     ]
    }
   ],
   "source": [
    "import collections\n",
    "\n",
    "d = collections.defaultdict(list)\n",
    "\n",
    "d[\"A\"].append(1)\n",
    "d[\"B\"].append(2)\n",
    "\n",
    "print(d)"
   ]
  },
  {
   "cell_type": "code",
   "execution_count": 18,
   "metadata": {},
   "outputs": [
    {
     "name": "stdout",
     "output_type": "stream",
     "text": [
      "Counter({'manzana': 2, 'pera': 2, 'naranja': 1})\n"
     ]
    }
   ],
   "source": [
    "frutas = [\"manzana\", \"pera\", \"manzana\",\"naranja\", \"pera\"]\n",
    "\n",
    "conteo = collections.Counter(frutas)\n",
    "print(conteo)"
   ]
  },
  {
   "cell_type": "code",
   "execution_count": 19,
   "metadata": {},
   "outputs": [
    {
     "name": "stdout",
     "output_type": "stream",
     "text": [
      "OrderedDict({'a': 1, 'b': 2, 'c': 3})\n"
     ]
    }
   ],
   "source": [
    "d = collections.OrderedDict()\n",
    "d[\"a\"] = 1 \n",
    "d[\"b\"] = 2\n",
    "d[\"c\"] = 3 \n",
    "\n",
    "print(d)"
   ]
  }
 ],
 "metadata": {
  "kernelspec": {
   "display_name": "Python 3",
   "language": "python",
   "name": "python3"
  },
  "language_info": {
   "codemirror_mode": {
    "name": "ipython",
    "version": 3
   },
   "file_extension": ".py",
   "mimetype": "text/x-python",
   "name": "python",
   "nbconvert_exporter": "python",
   "pygments_lexer": "ipython3",
   "version": "3.13.0"
  }
 },
 "nbformat": 4,
 "nbformat_minor": 2
}
