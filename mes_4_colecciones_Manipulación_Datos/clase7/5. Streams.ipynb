{
 "cells": [
  {
   "cell_type": "code",
   "execution_count": null,
   "metadata": {},
   "outputs": [],
   "source": [
    "map(funcion, iterable)"
   ]
  },
  {
   "cell_type": "code",
   "execution_count": 1,
   "metadata": {},
   "outputs": [
    {
     "name": "stdout",
     "output_type": "stream",
     "text": [
      "[1, 4, 9, 16, 25]\n"
     ]
    }
   ],
   "source": [
    "numeros = [1,2,3,4,5]\n",
    "\n",
    "cuadrado = list(map(lambda x:x **2, numeros))\n",
    "print((cuadrado))"
   ]
  },
  {
   "cell_type": "code",
   "execution_count": 2,
   "metadata": {},
   "outputs": [
    {
     "ename": "NameError",
     "evalue": "name 'funcion' is not defined",
     "output_type": "error",
     "traceback": [
      "\u001b[31m---------------------------------------------------------------------------\u001b[39m",
      "\u001b[31mNameError\u001b[39m                                 Traceback (most recent call last)",
      "\u001b[36mCell\u001b[39m\u001b[36m \u001b[39m\u001b[32mIn[2]\u001b[39m\u001b[32m, line 1\u001b[39m\n\u001b[32m----> \u001b[39m\u001b[32m1\u001b[39m \u001b[38;5;28mfilter\u001b[39m(\u001b[43mfuncion\u001b[49m, iterable)\n",
      "\u001b[31mNameError\u001b[39m: name 'funcion' is not defined"
     ]
    }
   ],
   "source": [
    "filter(funcion, iterable)"
   ]
  },
  {
   "cell_type": "code",
   "execution_count": null,
   "metadata": {},
   "outputs": [
    {
     "name": "stdout",
     "output_type": "stream",
     "text": [
      "[2, 4]\n"
     ]
    }
   ],
   "source": [
    "numeros = [1,2,3,4,5]\n",
    "pares = list(filter(lambda x:x % 2 == 0, numeros))\n",
    "print(pares) "
   ]
  },
  {
   "cell_type": "code",
   "execution_count": null,
   "metadata": {},
   "outputs": [],
   "source": [
    "from functools import reduce\n",
    "reduce(funcion, iterable)"
   ]
  },
  {
   "cell_type": "markdown",
   "metadata": {},
   "source": [
    "### ejemplos : sumar todos los elementos de una lista."
   ]
  },
  {
   "cell_type": "code",
   "execution_count": null,
   "metadata": {},
   "outputs": [
    {
     "name": "stdout",
     "output_type": "stream",
     "text": [
      "-13\n"
     ]
    }
   ],
   "source": [
    "from functools import reduce\n",
    "\n",
    "numeros = [1,2,3,4,5]\n",
    "sumar_total = reduce(lambda x,y: x - y, numeros)\n",
    "\n",
    "print(sumar_total)"
   ]
  },
  {
   "cell_type": "markdown",
   "metadata": {},
   "source": [
    "### ejemplos: encontrar el mas grande de unalista "
   ]
  },
  {
   "cell_type": "code",
   "execution_count": null,
   "metadata": {},
   "outputs": [
    {
     "name": "stdout",
     "output_type": "stream",
     "text": [
      "32\n"
     ]
    }
   ],
   "source": [
    "numeros = [1,5,3,7,9,32, 23]\n",
    "\n",
    "maximo = reduce(lambda x,y: x if x > y else y, numeros) # el reduce nos devuelve un valor siempre \n",
    "\n",
    "print(maximo )"
   ]
  },
  {
   "cell_type": "markdown",
   "metadata": {},
   "source": [
    "#### *** ejempolo: procesamiento de ventas en una tienda"
   ]
  },
  {
   "cell_type": "code",
   "execution_count": null,
   "metadata": {},
   "outputs": [
    {
     "name": "stdout",
     "output_type": "stream",
     "text": [
      "ventas originales: [123, 545, 344, 233, 545]\n",
      "ventas con descuento: [84.86999999999999, 376.04999999999995, 237.35999999999999, 160.76999999999998, 376.04999999999995]\n",
      "ventas mayores a $100: [376.04999999999995, 237.35999999999999, 160.76999999999998, 376.04999999999995]\n"
     ]
    }
   ],
   "source": [
    "ventas = [123, 545, 344, 233, 545]\n",
    "\n",
    "#Aplicar un descuento del 10%\n",
    "ventas_descuento = list(map(lambda x:x * 0.90, ventas ))\n",
    "\n",
    "# filtro solo ventas mayores a 100 \n",
    "ventas_filtro = list(filter(lambda x:x > 100, ventas_descuento))\n",
    "\n",
    "print(f\"ventas originales: {ventas}\")\n",
    "print(f\"ventas con descuento: {ventas_descuento}\")\n",
    "print(f\"ventas mayores a $100: {ventas_filtro}\")"
   ]
  },
  {
   "cell_type": "code",
   "execution_count": null,
   "metadata": {},
   "outputs": [
    {
     "name": "stdout",
     "output_type": "stream",
     "text": [
      "ventas originales: {'leche': 5000, 'pan': 500, 'Comida de perro 2k': 1300}\n",
      "ventas con descuento: {'leche': 4500.0, 'pan': 450.0, 'Comida de perro 2k': 1170.0}\n"
     ]
    }
   ],
   "source": [
    "#lista de ventas\n",
    "ventas = {\n",
    "    \"leche\": 5000, \n",
    "    \"pan\": 500, \n",
    "    \"Comida de perro 2k\": 1300\n",
    "}\n",
    "\n",
    "\n",
    "#Aplicar un descuento del 10%\n",
    "ventas_descuento = dict(map(lambda item: (item[0], item[1] * 0.90), ventas.items()))\n",
    "\n",
    "# filtro solo ventas mayores a 100 \n",
    "# ventas_filtro = list(filter(lambda x:x > 100, ventas_descuento))\n",
    "\n",
    "print(f\"ventas originales: {ventas}\")\n",
    "print(f\"ventas con descuento: {ventas_descuento}\")\n",
    "# print(f\"ventas mayores a $100: {ventas_filtro}\")"
   ]
  },
  {
   "cell_type": "code",
   "execution_count": null,
   "metadata": {},
   "outputs": [
    {
     "name": "stdout",
     "output_type": "stream",
     "text": [
      "Ventas mayores a $100: {'leche': 4500.0, 'pan': 450.0, 'Comida de perro 2k': 1170.0}\n",
      "Ventas con iva:  {'leche': 5355.0, 'pan': 535.5, 'Comida de perro 2k': 1392.3}\n"
     ]
    }
   ],
   "source": [
    "# Aplicamos solid\n",
    "from abc import ABC,    abstractmethod\n",
    "\n",
    "class DescuentoStrategy(ABC):\n",
    "    @abstractmethod\n",
    "    def aplicar_descuento(self, monto: float ) -> float:\n",
    "        pass\n",
    "    \n",
    "class DescuentoPor10Porciento(DescuentoStrategy):\n",
    "    def aplicar_descuento(self, monto):\n",
    "        return monto * 0.90\n",
    "    \n",
    "class FiltroVentas:\n",
    "    def __init__(self, umbral: float):\n",
    "        self.umbral = umbral\n",
    "        \n",
    "    def filtrarProPrecio(self, ventas: dict) -> dict:\n",
    "        return dict(filter(lambda item: item[1] > self.umbral, ventas.items()))\n",
    "    \n",
    "class GestorVentas:\n",
    "    def __init__(self, ventas: dict, estrategia_descuento: DescuentoStrategy):\n",
    "        self.ventas = ventas\n",
    "        self.estrategia_descuento = estrategia_descuento\n",
    "        \n",
    "    def aplicar_descuento(self) -> dict:\n",
    "        return dict(map(lambda item: (item[0], self.estrategia_descuento.aplicar_descuento\n",
    "        (item[1])), self.ventas.items() ))     \n",
    "        \n",
    "class CalculadoraIVA:\n",
    "    def __init__(self, tasa_iva:float):\n",
    "        self.tasa_iva = tasa_iva\n",
    "        \n",
    "    def aplicar_iva(self, ventas: dict) -> dict:\n",
    "        return {id_venta: monto * (1 + self.tasa_iva) for id_venta, monto in ventas.items()}    \n",
    "            \n",
    "#lista de ventas\n",
    "ventas = {\n",
    "    \"leche\": 5000, \n",
    "    \"pan\": 500, \n",
    "    \"Comida de perro 2k\": 1300\n",
    "}\n",
    "# print(f\"ventas originales: {ventas}\")\n",
    "# print(f\"ventas con descuento: {ventas_descuento}\")\n",
    "# print(f\"ventas mayores a $100: {ventas_filtro}\")\n",
    "\n",
    "estrategia_descuento = DescuentoPor10Porciento()\n",
    "gestor = GestorVentas(ventas, estrategia_descuento)\n",
    "ventas_descuento = gestor.aplicar_descuento()\n",
    "\n",
    "filtro = FiltroVentas(100)\n",
    "ventas_filtro = filtro.filtrarProPrecio(ventas_descuento)\n",
    "\n",
    "Calcular_iva = CalculadoraIVA(0.19)\n",
    "print(f\"Ventas mayores a $100: {ventas_filtro}\")\n",
    "\n",
    "ventas_con_iva = Calcular_iva.aplicar_iva(ventas_filtro) \n",
    "\n",
    "# print(f\"Ventas originales: {ventas}\")\n",
    "# print(f\"Ventas con descuento: {ventas_descuento}\")\n",
    "\n",
    "\n",
    "print(f\"Ventas con iva:  {ventas_con_iva}\" )"
   ]
  },
  {
   "cell_type": "code",
   "execution_count": 8,
   "metadata": {},
   "outputs": [
    {
     "name": "stdout",
     "output_type": "stream",
     "text": [
      "empleado: walter Estado: Disponible\n",
      "100\n",
      "Estado de walter cambiado a Volando\n",
      "empleado: walter Estado: Volando\n"
     ]
    }
   ],
   "source": [
    "from abc import ABC,    abstractmethod\n",
    "\n",
    "class EstadoEmpleado(ABC):\n",
    "    @abstractmethod\n",
    "    def obtener_estado(self):\n",
    "        pass\n",
    "    \n",
    "class Volando(EstadoEmpleado):\n",
    "    def obtener_estado(self):\n",
    "        return \"Volando\"  \n",
    "    \n",
    "class Descansando(EstadoEmpleado):\n",
    "    def obtener_estado(self):\n",
    "        return \"Descansando\"    \n",
    "    \n",
    "class Disponible(EstadoEmpleado):\n",
    "    def obtener_estado(self):\n",
    "        return \"Disponible\"   \n",
    "            \n",
    "class NoDisponible(EstadoEmpleado):\n",
    "    def obtener_estado(self):\n",
    "        return \"NoDisponible\" \n",
    "    \n",
    "\n",
    "    \n",
    "class Ruta(ABC):\n",
    "    @abstractmethod \n",
    "    def obtener_costo(self):\n",
    "        pass\n",
    "class RutaEconomica(Ruta):\n",
    "    def obtener_costo(self):\n",
    "        return 100   \n",
    "    \n",
    "class RutaPremium(Ruta):\n",
    "    def obtener_costo(self):\n",
    "        return 150 \n",
    "    \n",
    "class RutaExtraPremium(Ruta):\n",
    "    def obtener_costo(self):\n",
    "        return 200   \n",
    "    \n",
    "class Empleado:\n",
    "    def __init__(self, nombre, estado: EstadoEmpleado):\n",
    "        self.nombre = nombre\n",
    "        self.estado = estado \n",
    "        self.historial = []\n",
    "        \n",
    "    def cambiar_estado(self, nuevo_estado: EstadoEmpleado):\n",
    "        self.estado = nuevo_estado\n",
    "        \n",
    "    def obtener_info(self):\n",
    "        return f\"empleado: {self.nombre} Estado: {self.estado.obtener_estado() }\"    \n",
    "    \n",
    "    def asignar_ruta(self, ruta: Ruta):\n",
    "        if isinstance(self.estado, Disponible):\n",
    "            self.historial.append(f\"ruta Asignada: {type(ruta).__name__}\")\n",
    "            print(f\"{self.nombre} ha sido asignado a la ruta {type(ruta).__name__} \")    \n",
    "    \n",
    "class ControlRutas:\n",
    "    def __init__(self, rutas: list[Ruta]):\n",
    "        self.rutas = {type(ruta).__name__: ruta for ruta in rutas }\n",
    "        \n",
    "    def obtener_precio_ruta(self, nombre_ruta: str):\n",
    "        ruta = self.rutas.get(nombre_ruta)   \n",
    "        \n",
    "        if ruta:\n",
    "            return ruta.obtener_costo()\n",
    "        else: \n",
    "            raise ValueError(\"Error ruta no existe.\")\n",
    "        \n",
    "    \n",
    "        \n",
    "class ControlEmpleados:\n",
    "    def __init__(self):\n",
    "        self.empleados = []\n",
    "        \n",
    "    def agregar_empleados(self, empleado: Empleado):\n",
    "        self.empleados.append(empleado)\n",
    "        \n",
    "    def lista_empleados(self):\n",
    "        for empleado in self.empleados:\n",
    "            print(empleado.obtener_info())        \n",
    "            \n",
    "    def cambiar_estado_empleado(self, nombre:str, nuevo_estaddo: EstadoEmpleado ):\n",
    "        for empleado in self.empleados:\n",
    "            if empleado.nombre == nombre:\n",
    "                empleado.cambiar_estado(nuevo_estaddo)\n",
    "                print(f\"Estado de {nombre} cambiado a {nuevo_estaddo.obtener_estado()}\")        \n",
    "                return\n",
    "        print(f\"No se encontro un empleado con ese nombre\")      \n",
    "\n",
    "    def asignar_ruta_a_empleado(self, nombre: str, ruta: Ruta):   \n",
    "        for empleado in self.empleados:\n",
    "            if empleado.nombre == nombre:\n",
    "                empleado.asignar_ruta(ruta)    \n",
    "                return\n",
    "        print(f\"No se encontro un empleado con ese nombre\")           \n",
    "        \n",
    "empleado1 =  Empleado(\"walter\", Disponible()) \n",
    "\n",
    "control_empleados = ControlEmpleados()\n",
    "control_empleados.agregar_empleados(empleado1)\n",
    "\n",
    "ruta_economica = RutaEconomica()\n",
    "\n",
    "control_empleados.lista_empleados()\n",
    "\n",
    "contro_rutas = ControlRutas([ruta_economica])\n",
    "\n",
    "print(contro_rutas.obtener_precio_ruta(\"RutaEconomica\"))\n",
    "    \n",
    "control_empleados.cambiar_estado_empleado(\"walter\", Volando())\n",
    "control_empleados.lista_empleados() \n",
    "\n",
    "                                "
   ]
  },
  {
   "cell_type": "code",
   "execution_count": 6,
   "metadata": {},
   "outputs": [
    {
     "name": "stdout",
     "output_type": "stream",
     "text": [
      "empleado: walter Estado: Disponible\n",
      "empleado: pedro Estado: Disponible\n"
     ]
    }
   ],
   "source": [
    "empleado2 = Empleado(\"pedro\", Disponible())\n",
    "control_empleados.agregar_empleados(empleado2)\n",
    "\n",
    "control_empleados.lista_empleados()"
   ]
  },
  {
   "cell_type": "code",
   "execution_count": 7,
   "metadata": {},
   "outputs": [
    {
     "name": "stdout",
     "output_type": "stream",
     "text": [
      "pedro ha sido asignado a la ruta RutaEconomica \n"
     ]
    }
   ],
   "source": [
    "control_empleados.asignar_ruta_a_empleado(\"pedro\", RutaEconomica())"
   ]
  }
 ],
 "metadata": {
  "kernelspec": {
   "display_name": "Python 3",
   "language": "python",
   "name": "python3"
  },
  "language_info": {
   "codemirror_mode": {
    "name": "ipython",
    "version": 3
   },
   "file_extension": ".py",
   "mimetype": "text/x-python",
   "name": "python",
   "nbconvert_exporter": "python",
   "pygments_lexer": "ipython3",
   "version": "3.13.0"
  }
 },
 "nbformat": 4,
 "nbformat_minor": 2
}
