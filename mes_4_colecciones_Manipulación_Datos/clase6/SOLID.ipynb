{
 "cells": [
  {
   "cell_type": "code",
   "execution_count": 1,
   "metadata": {},
   "outputs": [
    {
     "name": "stdout",
     "output_type": "stream",
     "text": [
      "Collecting bcrypt\n",
      "  Downloading bcrypt-4.3.0-cp39-abi3-win_amd64.whl.metadata (10 kB)\n",
      "Downloading bcrypt-4.3.0-cp39-abi3-win_amd64.whl (152 kB)\n",
      "Installing collected packages: bcrypt\n",
      "Successfully installed bcrypt-4.3.0\n",
      "Note: you may need to restart the kernel to use updated packages.\n"
     ]
    },
    {
     "name": "stderr",
     "output_type": "stream",
     "text": [
      "\n",
      "[notice] A new release of pip is available: 25.0 -> 25.0.1\n",
      "[notice] To update, run: python.exe -m pip install --upgrade pip\n"
     ]
    }
   ],
   "source": [
    "pip install bcrypt"
   ]
  },
  {
   "cell_type": "code",
   "execution_count": null,
   "metadata": {},
   "outputs": [],
   "source": [
    "import bcrypt\n",
    "\n",
    "class Ecommerce:\n",
    "    def __init__(self):\n",
    "        self.users = {}\n",
    "    \n",
    "    def register(self, username, password):\n",
    "        salt = bcrypt.gensalt()\n",
    "        hashed_password = bcrypt.hashpw(password.encode(), salt)\n",
    "        self.users[username] = hashed_password\n",
    "        print(f\"Usuario {username} registrado con exito\")\n",
    "        \n",
    "ecommerce = Ecommerce()\n",
    "ecommerce.register(\"Juan\", \"123\")    \n",
    "## codigo indebido    \n",
    "    \n",
    "    "
   ]
  },
  {
   "cell_type": "markdown",
   "metadata": {},
   "source": [
    "##SOLID\n",
    "#S -> SINGLE RESPONSABILITY"
   ]
  },
  {
   "cell_type": "code",
   "execution_count": null,
   "metadata": {},
   "outputs": [],
   "source": [
    "import bcrypt\n",
    "\n",
    "class PasswordManager:\n",
    "    def encrypt_password(self, password: str) -> str:\n",
    "        salt = bcrypt.gensalt()\n",
    "        return bcrypt.hashpw(password.encode(), salt)\n",
    "    \n",
    "    def verify_password():\n",
    "        pass\n",
    "\n",
    "class Ecommerce:\n",
    "    def _init_(self, password_manager: PasswordManager):\n",
    "        self.users = {}\n",
    "        self.password_manager = password_manager\n",
    "    \n",
    "    def register(self, username, password):\n",
    "        hashed_password = self.password_manager.encrypt_password(password)\n",
    "        self.users[username] = hashed_password\n",
    "        print(f\"Usuario {username} registrado con éxito\")\n",
    "        \n",
    "pw_mngr = PasswordManager()\n",
    "ecommerce = Ecommerce(pw_mngr)\n",
    "ecommerce.register(\"Juan\",\"123\")"
   ]
  },
  {
   "cell_type": "markdown",
   "metadata": {},
   "source": [
    "### o ->  OPEN/CLOSED\n",
    "codigo abierto para extension pero cerrado a modificacion "
   ]
  },
  {
   "cell_type": "code",
   "execution_count": 2,
   "metadata": {},
   "outputs": [
    {
     "name": "stdout",
     "output_type": "stream",
     "text": [
      "None\n",
      "24\n"
     ]
    }
   ],
   "source": [
    "class AreaCalculador:\n",
    "    def calcular_area(self, shape: str, **Kwargs):\n",
    "        if shape == \"circle\":\n",
    "            return 3.14 *(Kwargs[\"radio\"] ** 2)\n",
    "        elif shape == \"rectangulo\":\n",
    "            return Kwargs[\"ancho\"] * Kwargs[\"alto\"]\n",
    "        \n",
    "            \n",
    "\n",
    "calculadora = AreaCalculador()\n",
    "print(calculadora.calcular_area(\"circulo\", radio=5))        \n",
    "print(calculadora.calcular_area(\"rectangulo\", ancho=4, alto=6 ))        "
   ]
  },
  {
   "cell_type": "markdown",
   "metadata": {},
   "source": [
    "# implementamos la abstraccion\n",
    "Clases cerradas a la edicion \n",
    "abierta para recibir cualquier cosa \n",
    "abierta a la extension pero cerrada a la modificacion "
   ]
  },
  {
   "cell_type": "code",
   "execution_count": null,
   "metadata": {},
   "outputs": [
    {
     "name": "stdout",
     "output_type": "stream",
     "text": [
      "Area de un circuo: 78.5\n"
     ]
    }
   ],
   "source": [
    "from abc import ABC, abstractmethod \n",
    "\n",
    "class FigurasGeometrica(ABC):\n",
    "    @abstractmethod\n",
    "    def calcular_area(self) -> float:\n",
    "        pass\n",
    "    \n",
    "class Circulo(FigurasGeometrica):\n",
    "    def __init__(self, radio:float):\n",
    "        self.radio = radio\n",
    "        \n",
    "    def calcular_area(self) -> float:\n",
    "        return 3.14 *(self.radio ** 2)\n",
    "    \n",
    "class Rectangulo(FigurasGeometrica):\n",
    "    def __init__(self, ancho:float, alto:float):\n",
    "        self.ancho = ancho\n",
    "        self.alto = alto\n",
    "    \n",
    "    def calcular_area(self):\n",
    "        return self.ancho * self.alto\n",
    "    \n",
    "class Rectangulo(FigurasGeometrica):\n",
    "    def __init__(self, base:float, altura:float):\n",
    "        self.base = base\n",
    "        self.altura = altura\n",
    "    \n",
    "    def calcular_area(self):\n",
    "        return 0.5 * self.base * self.altura    \n",
    "    \n",
    "class AreaCalculador:\n",
    "    def calcular(self, figura: FigurasGeometrica) -> float:\n",
    "        return figura.calcular_area()\n",
    "    \n",
    "calculadora = AreaCalculador()\n",
    "circulo = Circulo(5)\n",
    "\n",
    "print(f\"Area de un circuo: {calculadora.calcular(circulo)}\")    \n",
    "                        "
   ]
  },
  {
   "cell_type": "markdown",
   "metadata": {},
   "source": [
    "### lISKOV"
   ]
  },
  {
   "cell_type": "code",
   "execution_count": 6,
   "metadata": {},
   "outputs": [
    {
     "name": "stdout",
     "output_type": "stream",
     "text": [
      "El coche acelera con el motor\n"
     ]
    },
    {
     "ename": "NotImplementedError",
     "evalue": "Las bicicletas no tiene acelerador",
     "output_type": "error",
     "traceback": [
      "\u001b[31m---------------------------------------------------------------------------\u001b[39m",
      "\u001b[31mNotImplementedError\u001b[39m                       Traceback (most recent call last)",
      "\u001b[36mCell\u001b[39m\u001b[36m \u001b[39m\u001b[32mIn[6]\u001b[39m\u001b[32m, line 20\u001b[39m\n\u001b[32m     17\u001b[39m bicicleta = Bicicleta()\n\u001b[32m     19\u001b[39m probar_vehiculo(coche)        \n\u001b[32m---> \u001b[39m\u001b[32m20\u001b[39m \u001b[43mprobar_vehiculo\u001b[49m\u001b[43m(\u001b[49m\u001b[43mbicicleta\u001b[49m\u001b[43m)\u001b[49m        \n",
      "\u001b[36mCell\u001b[39m\u001b[36m \u001b[39m\u001b[32mIn[6]\u001b[39m\u001b[32m, line 14\u001b[39m, in \u001b[36mprobar_vehiculo\u001b[39m\u001b[34m(vehiculo)\u001b[39m\n\u001b[32m     13\u001b[39m \u001b[38;5;28;01mdef\u001b[39;00m\u001b[38;5;250m \u001b[39m\u001b[34mprobar_vehiculo\u001b[39m(vehiculo: Vehiculo):\n\u001b[32m---> \u001b[39m\u001b[32m14\u001b[39m         \u001b[43mvehiculo\u001b[49m\u001b[43m.\u001b[49m\u001b[43macelerar\u001b[49m\u001b[43m(\u001b[49m\u001b[43m)\u001b[49m\n",
      "\u001b[36mCell\u001b[39m\u001b[36m \u001b[39m\u001b[32mIn[6]\u001b[39m\u001b[32m, line 11\u001b[39m, in \u001b[36mBicicleta.acelerar\u001b[39m\u001b[34m(self)\u001b[39m\n\u001b[32m     10\u001b[39m \u001b[38;5;28;01mdef\u001b[39;00m\u001b[38;5;250m \u001b[39m\u001b[34macelerar\u001b[39m(\u001b[38;5;28mself\u001b[39m):\n\u001b[32m---> \u001b[39m\u001b[32m11\u001b[39m     \u001b[38;5;28;01mraise\u001b[39;00m \u001b[38;5;167;01mNotImplementedError\u001b[39;00m(\u001b[33m\"\u001b[39m\u001b[33mLas bicicletas no tiene acelerador\u001b[39m\u001b[33m\"\u001b[39m)\n",
      "\u001b[31mNotImplementedError\u001b[39m: Las bicicletas no tiene acelerador"
     ]
    }
   ],
   "source": [
    "class Vehiculo:\n",
    "    def acelerar(self):\n",
    "        print(\"Aumento de vehiculo\")\n",
    "        \n",
    "class Coche(Vehiculo):\n",
    "    def acelerar(self):\n",
    "        print(\"El coche acelera con el motor\")\n",
    "        \n",
    "class Bicicleta(Vehiculo):\n",
    "    def acelerar(self):\n",
    "        raise NotImplementedError(\"Las bicicletas no tiene acelerador\")\n",
    "    \n",
    "def probar_vehiculo(vehiculo: Vehiculo):\n",
    "        vehiculo.acelerar()\n",
    "\n",
    "coche = Coche()\n",
    "bicicleta = Bicicleta()\n",
    "\n",
    "probar_vehiculo(coche)        \n",
    "probar_vehiculo(bicicleta)        \n",
    "        \n",
    "            "
   ]
  },
  {
   "cell_type": "markdown",
   "metadata": {},
   "source": [
    "Interfaz de segregacion  \n"
   ]
  },
  {
   "cell_type": "code",
   "execution_count": null,
   "metadata": {},
   "outputs": [
    {
     "name": "stdout",
     "output_type": "stream",
     "text": [
      "El coche se mueve\n"
     ]
    }
   ],
   "source": [
    "from abc import ABC, abstractmethod\n",
    "\n",
    "class Vehiculo(ABC):\n",
    "    @abstractmethod\n",
    "    def moverse(self):\n",
    "        pass\n",
    "    \n",
    "class VehiculoConMotor(Vehiculo):\n",
    "    @abstractmethod\n",
    "    def acelerar(self):\n",
    "        pass\n",
    "    \n",
    "class VehiculoSinMorot(Vehiculo):\n",
    "    @abstractmethod\n",
    "    def pedalear(self):\n",
    "        pass\n",
    "\n",
    "class Coche(VehiculoConMotor):\n",
    "    def acelerar(self):\n",
    "        print(\"El coche acelera co el motor \")         \n",
    "        \n",
    "    def moverse(self):\n",
    "        print(\"El coche se mueve\")    \n",
    "        \n",
    "class Bicicleta(VehiculoSinMorot):\n",
    "    def acelerar(self):\n",
    "        print(\"la bicicleta avanza al pedalear \")         \n",
    "        \n",
    "    def moverse(self):\n",
    "        print(\"la bicicleta se mueve \") \n",
    "\n",
    "def probar_movimiento(vehiculo: Vehiculo):\n",
    "    vehiculo.moverse()\n",
    "    \n",
    "coche = Coche()\n",
    "bicicleta = Bicicleta()\n",
    "\n",
    "probar_movimiento(bicicleta)\n",
    "probar_movimiento(coche)    "
   ]
  },
  {
   "cell_type": "markdown",
   "metadata": {},
   "source": [
    "# Dependency Inversion\n",
    "Modulos de alto nivel no deben depender de modulos de bajo nivel\n"
   ]
  },
  {
   "cell_type": "code",
   "execution_count": 3,
   "metadata": {},
   "outputs": [
    {
     "name": "stdout",
     "output_type": "stream",
     "text": [
      "Enviar email: Hola, somos San tiago\n"
     ]
    }
   ],
   "source": [
    "class EmailService:\n",
    "    def enviar_email(self, mensaje: str):\n",
    "        print(f\"Enviar email: {mensaje}\")\n",
    "        \n",
    "class Notificar:\n",
    "    def __init__(self):\n",
    "        self.email_servicio = EmailService()\n",
    "        \n",
    "    def notificar(self, mensaje: str):\n",
    "        self.email_servicio.enviar_email(mensaje)\n",
    "                    \n",
    "notificador = Notificar()\n",
    "\n",
    "notificador.notificar(\"Hola, somos San tiago\")    \n",
    "     "
   ]
  },
  {
   "cell_type": "code",
   "execution_count": 9,
   "metadata": {},
   "outputs": [
    {
     "name": "stdout",
     "output_type": "stream",
     "text": [
      "Enviar email: Hola, somos San tiago\n",
      "enviar SMS: HOla somos san desde sms  \n",
      "enviar whatsatp: Hola desde whatasap  \n",
      "Mensaje modificado a Hola soy modificar mensaje \n",
      "Enviar email: Hola soy modificar mensaje \n"
     ]
    }
   ],
   "source": [
    "from abc import ABC, abstractmethod\n",
    "\n",
    "class Inotificacion(ABC):\n",
    "    @abstractmethod\n",
    "    def enviar(self, mensaje: str): ## esta cerrada para edicion pero abierta para extension \n",
    "        pass\n",
    "    \n",
    "class EmailService(Inotificacion):\n",
    "    def enviar(self, mensaje: str):\n",
    "        print(f\"Enviar email: {mensaje}\")    \n",
    "        \n",
    "class SMSService(Inotificacion):\n",
    "    def enviar(self, mensaje):\n",
    "        print(f\"enviar SMS: {mensaje} \")    \n",
    "        \n",
    "class WhatsAppService(Inotificacion):\n",
    "    def enviar(self, mensaje):\n",
    "        print(f\"enviar whatsatp: {mensaje} \")          \n",
    "        \n",
    "class Notificador:\n",
    "    def __init__(self, servicio: Inotificacion ):\n",
    "        self.servicio = servicio\n",
    "        \n",
    "    def notificar(self, mensaje: str):\n",
    "        self.servicio.enviar(mensaje)\n",
    "        \n",
    "class NotificadorModificable:\n",
    "    def __init__(self, notificador: Notificador):\n",
    "        self.notificacion = notificador\n",
    "        self.mensaje = None\n",
    "        \n",
    "    def notificar(self, mensaje: str):\n",
    "        self.mensaje = mensaje\n",
    "        self.notificacion.notificar(mensaje)  \n",
    "    \n",
    "    def modificar_mensaje(self, nuevo_mensaje: str):\n",
    "        if self.mensaje is None:\n",
    "            print(\"No hay mensaje previo para modificar\")\n",
    "            return\n",
    "        self.mensaje = nuevo_mensaje\n",
    "        print(f\"Mensaje modificado a {self.mensaje}\")\n",
    "        self.notificacion.notificar(self.mensaje)   \n",
    "        \n",
    "                    \n",
    "email_notificador = NotificadorModificable(Notificador(EmailService()))             \n",
    "sms_notificador = Notificador(SMSService())  \n",
    "wharsapp_notificador = Notificador(WhatsAppService())    \n",
    "# notificador = Notificar()\n",
    "\n",
    "#mensaje inicial \n",
    "email_notificador.notificar(\"Hola, somos San tiago\")    \n",
    "sms_notificador.notificar(\"HOla somos san desde sms \")\n",
    "wharsapp_notificador.notificar(\"Hola desde whatasap \")\n",
    "\n",
    "#modificar y reenviar\n",
    "email_notificador.modificar_mensaje(\"Hola soy modificar mensaje \")\n"
   ]
  }
 ],
 "metadata": {
  "kernelspec": {
   "display_name": "Python 3",
   "language": "python",
   "name": "python3"
  },
  "language_info": {
   "codemirror_mode": {
    "name": "ipython",
    "version": 3
   },
   "file_extension": ".py",
   "mimetype": "text/x-python",
   "name": "python",
   "nbconvert_exporter": "python",
   "pygments_lexer": "ipython3",
   "version": "3.13.0"
  }
 },
 "nbformat": 4,
 "nbformat_minor": 2
}
