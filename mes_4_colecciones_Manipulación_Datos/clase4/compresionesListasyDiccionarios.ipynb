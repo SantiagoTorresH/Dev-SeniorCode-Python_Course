{
 "cells": [
  {
   "cell_type": "markdown",
   "metadata": {},
   "source": [
    "# compresiones de listas y Diccionarios en python\n",
    "\n",
    "## 1. Compresion de listas\n",
    "Una compresion de lista es una forma de generarlista apartir de una secuencia de manera compacta. \n",
    "\n",
    "** sintaxis** \n",
    "\n",
    "nueva_lista = [expresion for elemento in iterable if condicion ]\n",
    "\n",
    "** expresion: ** Operacion o transformacion que aplica a cada elemento.\n",
    "\n",
    "** Iterable: ** : Fuente de los datos a manipular\n",
    "** Condicion: ** (opcional): filtrar los elementos, por un proceso. \n",
    "\n"
   ]
  },
  {
   "cell_type": "code",
   "execution_count": 1,
   "metadata": {},
   "outputs": [
    {
     "name": "stdout",
     "output_type": "stream",
     "text": [
      "[1, 4, 9, 16, 25]\n"
     ]
    }
   ],
   "source": [
    "#Tradiocional con for \n",
    "numeros =  [1,2,3,4,5]\n",
    "cuadrados = []\n",
    "\n",
    "for num in numeros:\n",
    "    cuadrados.append(num ** 2 )\n",
    "print(cuadrados)    "
   ]
  },
  {
   "cell_type": "markdown",
   "metadata": {},
   "source": [
    "nueva_lista = [expresion for elemento in iterable if condicion ]"
   ]
  },
  {
   "cell_type": "code",
   "execution_count": 2,
   "metadata": {},
   "outputs": [
    {
     "name": "stdout",
     "output_type": "stream",
     "text": [
      "[1, 4, 9, 16, 25]\n"
     ]
    }
   ],
   "source": [
    "cuadrados_2 = [num ** 2 for num in numeros]\n",
    "print(cuadrados_2)"
   ]
  },
  {
   "cell_type": "markdown",
   "metadata": {},
   "source": [
    "Ejemplo 2 pares "
   ]
  },
  {
   "cell_type": "code",
   "execution_count": 3,
   "metadata": {},
   "outputs": [
    {
     "name": "stdout",
     "output_type": "stream",
     "text": [
      "[2, 4, 6, 8, 10]\n"
     ]
    }
   ],
   "source": [
    "numeros = [1,2,3,4,5,6,7,8,9,10]\n",
    "pares = [num for num in numeros if num % 2 == 0]\n",
    "\n",
    "print(pares)"
   ]
  },
  {
   "cell_type": "markdown",
   "metadata": {},
   "source": [
    "### ejemplo 3 convertir"
   ]
  },
  {
   "cell_type": "code",
   "execution_count": 4,
   "metadata": {},
   "outputs": [
    {
     "name": "stdout",
     "output_type": "stream",
     "text": [
      "['LINDA', 'JENY', 'DARLY']\n"
     ]
    }
   ],
   "source": [
    "nombres = [\"linda\", \"jeny\", \"Darly\"]\n",
    "mayusculas = [nombre.upper() for nombre in nombres]\n",
    "print(mayusculas )"
   ]
  },
  {
   "cell_type": "markdown",
   "metadata": {},
   "source": [
    "## 1. Compresion de Diccionarios\n",
    "\n",
    "** sintaxis** \n",
    "\n",
    "nuevo_dicc = {clave: valor for elemento in iterable if condicion}\n",
    "\n",
    "- ** clave: ** definir la clave del diccionario\n",
    "- ** valor: ** valor asociado a la clave\n",
    "- ** iterable: ** fuente de los datos\n",
    "- ** condicion(opcional): ** filtrar elementos\n",
    "\n"
   ]
  },
  {
   "cell_type": "code",
   "execution_count": 5,
   "metadata": {},
   "outputs": [
    {
     "name": "stdout",
     "output_type": "stream",
     "text": [
      "{1: 1, 2: 4, 3: 9, 4: 16, 5: 25}\n"
     ]
    }
   ],
   "source": [
    "numeros = [1,2,3,4,5]\n",
    "cuadrados = {num: num ** 2 for num in numeros}\n",
    "\n",
    "print(cuadrados)"
   ]
  },
  {
   "cell_type": "code",
   "execution_count": 2,
   "metadata": {},
   "outputs": [
    {
     "name": "stdout",
     "output_type": "stream",
     "text": [
      "{'Juan2': 3200, 'Juan3': 4000}\n"
     ]
    }
   ],
   "source": [
    "empleados = {\n",
    "    \"Juan1\" : 2500,\n",
    "    \"Juan2\" : 3200,\n",
    "    \"Juan3\" : 4000,\n",
    "    \"Juan4\" : 2000,\n",
    "}\n",
    "\n",
    "salarios_altos = {nombre: salario for nombre, salario in empleados.items() if salario > 3000}\n",
    "# clave, valor, elementos, iterable, condicional \n",
    "\n",
    "print(salarios_altos)"
   ]
  },
  {
   "cell_type": "code",
   "execution_count": 1,
   "metadata": {},
   "outputs": [
    {
     "name": "stdout",
     "output_type": "stream",
     "text": [
      "{'Bogora': 'Colombia', 'Buenos Aires': 'Argentina', 'Madrid': 'Espana'}\n",
      "{'Colombia': 'Bogora', 'Argentina': 'Buenos Aires', 'Espana': 'Madrid'}\n"
     ]
    }
   ],
   "source": [
    "capitales = {\"Colombia\": \"Bogora\", \"Argentina\": \"Buenos Aires\", \"Espana\": \"Madrid\" }\n",
    "invertir = {ciudad: pais for pais, ciudad in capitales.items()}\n",
    "\n",
    "print(invertir)\n",
    "print(capitales)"
   ]
  },
  {
   "cell_type": "code",
   "execution_count": 9,
   "metadata": {},
   "outputs": [
    {
     "name": "stdout",
     "output_type": "stream",
     "text": [
      "Lunes\n",
      "martes\n",
      "miercoes\n",
      "Jueves\n",
      "Viernes\n",
      "Lunes\n",
      "martes\n",
      "miercoes\n",
      "Jueves\n",
      "Viernes\n"
     ]
    }
   ],
   "source": [
    "from itertools import cycle\n",
    "\n",
    "dias = [\"Lunes\", \"martes\", \"miercoes\", \"Jueves\", \"Viernes\" ]\n",
    "turnos = cycle(dias)\n",
    "\n",
    "for _ in range(10):\n",
    "    print(next(turnos))\n",
    "    "
   ]
  },
  {
   "cell_type": "code",
   "execution_count": 11,
   "metadata": {},
   "outputs": [
    {
     "name": "stdout",
     "output_type": "stream",
     "text": [
      "('Vainilla', 'Chocolate')\n",
      "('Vainilla', 'fresas')\n",
      "('Vainilla', 'Mango')\n",
      "('Chocolate', 'fresas')\n",
      "('Chocolate', 'Mango')\n",
      "('fresas', 'Mango')\n"
     ]
    }
   ],
   "source": [
    "from itertools import combinations\n",
    "sabores = [\"Vainilla\", \"Chocolate\", \"fresas\", \"Mango\"]\n",
    "opciones = combinations(sabores,2)\n",
    "\n",
    "for combinacion in opciones:\n",
    "    print(combinacion)"
   ]
  },
  {
   "cell_type": "code",
   "execution_count": null,
   "metadata": {},
   "outputs": [],
   "source": []
  },
  {
   "cell_type": "code",
   "execution_count": null,
   "metadata": {},
   "outputs": [],
   "source": []
  }
 ],
 "metadata": {
  "kernelspec": {
   "display_name": "Python 3",
   "language": "python",
   "name": "python3"
  },
  "language_info": {
   "codemirror_mode": {
    "name": "ipython",
    "version": 3
   },
   "file_extension": ".py",
   "mimetype": "text/x-python",
   "name": "python",
   "nbconvert_exporter": "python",
   "pygments_lexer": "ipython3",
   "version": "3.13.0"
  }
 },
 "nbformat": 4,
 "nbformat_minor": 2
}
