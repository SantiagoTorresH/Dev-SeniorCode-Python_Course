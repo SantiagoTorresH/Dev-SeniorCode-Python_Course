{
 "cells": [
  {
   "cell_type": "markdown",
   "metadata": {},
   "source": [
    "# Compresiones de Listas y Diccionarios en Python\n",
    "\n",
    "## Compresión de Lista \n",
    "\n",
    "Una compresión de lista es una forma de generar lista a partir de una secuencia de manera compacta. \n",
    "### **Sintaxis**\n",
    "\n",
    "    nueva_lista = [expresión for elemento in iterable if condición]\n",
    "\n",
    "- **expresión:** Operación o trasformación que aplica a cada elemento.\n",
    "- **Iterable:** Fuente de los datos\n",
    "- **condición(opcional):** Filtrar los elementos "
   ]
  },
  {
   "cell_type": "code",
   "execution_count": 1,
   "metadata": {},
   "outputs": [
    {
     "name": "stdout",
     "output_type": "stream",
     "text": [
      "[1, 4, 9, 16, 25]\n"
     ]
    }
   ],
   "source": [
    "#Tradicional con for\n",
    "numeros = [1,2,3,4,5]\n",
    "cuadrados = []\n",
    "\n",
    "for num in numeros:\n",
    "    cuadrados.append(num ** 2)\n",
    "    \n",
    "print(cuadrados)"
   ]
  },
  {
   "cell_type": "code",
   "execution_count": 3,
   "metadata": {},
   "outputs": [
    {
     "name": "stdout",
     "output_type": "stream",
     "text": [
      "[1, 4, 9, 16, 25]\n"
     ]
    }
   ],
   "source": [
    "cuadrados2 =[num ** 2 for num in numeros]\n",
    "print (cuadrados2) "
   ]
  },
  {
   "cell_type": "markdown",
   "metadata": {},
   "source": [
    "Ejemplos 2 pares "
   ]
  },
  {
   "cell_type": "code",
   "execution_count": 4,
   "metadata": {},
   "outputs": [
    {
     "name": "stdout",
     "output_type": "stream",
     "text": [
      "[2, 4, 6, 8, 10]\n"
     ]
    }
   ],
   "source": [
    "numeros = [1,2,3,4,5,6,7,8,9,10]\n",
    "pares = [num for num in numeros if num % 2 == 0]\n",
    "\n",
    "print(pares)"
   ]
  },
  {
   "cell_type": "markdown",
   "metadata": {},
   "source": [
    "Ejemeplo 3 Convertir"
   ]
  },
  {
   "cell_type": "code",
   "execution_count": 6,
   "metadata": {},
   "outputs": [
    {
     "name": "stdout",
     "output_type": "stream",
     "text": [
      "['JUAN', 'PEDRO', 'MARIA', 'LUISA']\n"
     ]
    }
   ],
   "source": [
    "nombres = [\"juan\",\"pedro\",\"maria\",\"luisa\"]\n",
    "\n",
    "mayusculas = [nombre.upper() for nombre in nombres]\n",
    "\n",
    "print(mayusculas)"
   ]
  },
  {
   "cell_type": "markdown",
   "metadata": {},
   "source": [
    "## Compresión de Diccionarios \n",
    "\n",
    "### **Sintaxis**\n",
    "\n",
    "    nuevo_dicc = {clava: valor for elemento in iterable if condicion}\n",
    "\n",
    "- **clave:** definir la calba de diccionario.\n",
    "- **valor:** valor asociado a la clave\n",
    "- **Iterable:** Fuente de los datos\n",
    "- **condición(opcional):** Filtrar los elementos "
   ]
  },
  {
   "cell_type": "code",
   "execution_count": 7,
   "metadata": {},
   "outputs": [
    {
     "name": "stdout",
     "output_type": "stream",
     "text": [
      "{1: 1, 2: 4, 3: 9, 4: 16, 5: 25}\n"
     ]
    }
   ],
   "source": [
    "numeros = [1,2,3,4,5]\n",
    "cuadrados = {num:num ** 2 for num in numeros}\n",
    "\n",
    "print(cuadrados)"
   ]
  },
  {
   "cell_type": "code",
   "execution_count": 9,
   "metadata": {},
   "outputs": [
    {
     "name": "stdout",
     "output_type": "stream",
     "text": [
      "{'Maria': 3200, 'Pedro': 4000}\n"
     ]
    }
   ],
   "source": [
    "empleados = {\n",
    "    \"Juan\" : 2500,\n",
    "    \"Maria\" : 3200,\n",
    "    \"Pedro\" : 4000,\n",
    "    \"Ana\" : 2800\n",
    "}\n",
    "\n",
    "salarios_altos = { nombre: salario for nombre, salario in empleados.items() if salario > 3000}\n",
    "\n",
    "print(salarios_altos)"
   ]
  },
  {
   "cell_type": "code",
   "execution_count": 12,
   "metadata": {},
   "outputs": [
    {
     "name": "stdout",
     "output_type": "stream",
     "text": [
      "{'Bogota': 'Colombia', 'Buenos Aires': 'Argentina', 'Madrid': 'España'}\n",
      "{'Colombia': 'Bogota', 'Argentina': 'Buenos Aires', 'España': 'Madrid'}\n"
     ]
    }
   ],
   "source": [
    "capitales = {\"Colombia\": \"Bogota\", \"Argentina\": \"Buenos Aires\", \"España\": \"Madrid\"}\n",
    "invertir = {ciudad: pais for pais, ciudad in capitales.items()}\n",
    "\n",
    "print(invertir)\n",
    "print(capitales)"
   ]
  },
  {
   "cell_type": "code",
   "execution_count": 17,
   "metadata": {},
   "outputs": [
    {
     "name": "stdout",
     "output_type": "stream",
     "text": [
      "Lunes\n",
      "Martes\n",
      "Miercoles\n",
      "Jueves\n",
      "Viernes\n",
      "Lunes\n",
      "Martes\n",
      "Miercoles\n",
      "Jueves\n",
      "Viernes\n"
     ]
    }
   ],
   "source": [
    "from itertools import cycle\n",
    "\n",
    "dias = [\"Lunes\",\"Martes\",\"Miercoles\",\"Jueves\",\"Viernes\"]\n",
    "turnos = cycle(dias)\n",
    "\n",
    "for _ in range(10):\n",
    "    print(next(turnos))"
   ]
  },
  {
   "cell_type": "code",
   "execution_count": 15,
   "metadata": {},
   "outputs": [
    {
     "name": "stdout",
     "output_type": "stream",
     "text": [
      "('Vainlla', 'Chocolate', 'Fresas')\n",
      "('Vainlla', 'Chocolate', 'Mango')\n",
      "('Vainlla', 'Fresas', 'Mango')\n",
      "('Chocolate', 'Fresas', 'Mango')\n"
     ]
    }
   ],
   "source": [
    "from itertools import combinations\n",
    "sabores = [\"Vainlla\", \"Chocolate\", \"Fresas\", \"Mango\"]\n",
    "\n",
    "opciones = combinations(sabores,3)\n",
    "\n",
    "for combinacion in opciones:\n",
    "    print(combinacion)"
   ]
  }
 ],
 "metadata": {
  "kernelspec": {
   "display_name": "Python 3",
   "language": "python",
   "name": "python3"
  },
  "language_info": {
   "codemirror_mode": {
    "name": "ipython",
    "version": 3
   },
   "file_extension": ".py",
   "mimetype": "text/x-python",
   "name": "python",
   "nbconvert_exporter": "python",
   "pygments_lexer": "ipython3",
   "version": "3.13.2"
  }
 },
 "nbformat": 4,
 "nbformat_minor": 2
}
