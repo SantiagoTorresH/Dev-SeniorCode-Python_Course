{
 "cells": [
  {
   "cell_type": "markdown",
   "metadata": {},
   "source": [
    "\"\"\"\n",
    "### **Iteradores en Python**\n",
    "\n",
    "Un **iterador** en Python es un objeto que implementa los métodos `__iter__()` y `__next__()`. Permite recorrer un conjunto de datos uno a uno sin necesidad de cargar toda la secuencia en memoria, lo que los hace eficientes para manejar grandes volúmenes de datos.\n",
    "\n",
    "## **1. Cómo funcionan los iteradores**\n",
    "- Un iterador mantiene el estado de la iteración.\n",
    "- La función `next()` se usa para obtener el siguiente elemento del iterador.\n",
    "- Cuando no hay más elementos, lanza la excepción `StopIteration`.\n",
    "\n",
    "### **Ejemplo de iterador personalizado**\n",
    "```python\n",
    "class Contador:\n",
    "    def __init__(self, inicio, fin):\n",
    "        self.actual = inicio\n",
    "        self.fin = fin\n",
    "    \n",
    "    def __iter__(self):\n",
    "        return self\n",
    "    \n",
    "    def __next__(self):\n",
    "        if self.actual > self.fin:\n",
    "            raise StopIteration\n",
    "        numero = self.actual\n",
    "        self.actual += 1\n",
    "        return numero\n",
    "\n",
    "contador = Contador(1, 5)\n",
    "for num in contador:\n",
    "    print(num)\n",
    "```\n",
    "**Salida:**\n",
    "```\n",
    "1\n",
    "2\n",
    "3\n",
    "4\n",
    "5\n",
    "```\n",
    "\n",
    "---\n",
    "\n",
    "## **2. Iteradores con `iter()` y `next()`**\n",
    "Podemos convertir estructuras de datos como listas en iteradores con `iter()`, permitiendo obtener elementos con `next()`.\n",
    "\n",
    "### **Ejemplo con `iter()` y `next()`**\n",
    "```python\n",
    "numeros = [10, 20, 30]\n",
    "iterador = iter(numeros)\n",
    "print(next(iterador))  # Salida: 10\n",
    "print(next(iterador))  # Salida: 20\n",
    "print(next(iterador))  # Salida: 30\n",
    "```\n",
    "\n",
    "Si intentamos llamar `next()` después de haber iterado toda la lista, obtendremos una excepción `StopIteration`.\n",
    "\n",
    "---\n",
    "\n",
    "## **3. Generadores en Python**\n",
    "Un **generador** es una función especial que produce una secuencia de valores bajo demanda utilizando la palabra clave `yield`. Los generadores permiten iterar grandes conjuntos de datos sin necesidad de almacenarlos en memoria.\n",
    "\n",
    "### **Características de los generadores**\n",
    "- Usan `yield` en lugar de `return`.\n",
    "- Mantienen su estado entre llamadas.\n",
    "- Son más eficientes en términos de memoria que los iteradores tradicionales.\n",
    "\n",
    "### **Ejemplo de generador**\n",
    "```python\n",
    "def generador_numeros():\n",
    "    for i in range(1, 4):\n",
    "        yield i\n",
    "\n",
    "gen = generador_numeros()\n",
    "print(next(gen))  # Salida: 1\n",
    "print(next(gen))  # Salida: 2\n",
    "print(next(gen))  # Salida: 3\n",
    "```\n",
    "\n",
    "---\n",
    "\n",
    "## **4. Diferencia entre Iteradores y Generadores**\n",
    "| Característica  | Iteradores | Generadores |\n",
    "|---------------|------------|-------------|\n",
    "| Implementación  | Clase con `__iter__()` y `__next__()` | Función con `yield` |\n",
    "| Estado | Debe gestionarse manualmente | Automático con `yield` |\n",
    "| Memoria | Puede ser costoso si almacena muchos datos | Eficiente, genera datos sobre la marcha |\n",
    "| Facilidad de uso | Requiere más código | Más simple y limpio |\n",
    "\n",
    "✅ **Los iteradores se usan cuando necesitas más control sobre la iteración.**\n",
    "✅ **Los generadores son útiles cuando quieres optimizar memoria y escribir código más limpio.**\n",
    "\"\"\""
   ]
  },
  {
   "cell_type": "code",
   "execution_count": 3,
   "metadata": {},
   "outputs": [
    {
     "name": "stdout",
     "output_type": "stream",
     "text": [
      "0\n",
      "1\n",
      "2\n",
      "3\n",
      "4\n",
      "5\n",
      "6\n",
      "7\n",
      "8\n",
      "9\n"
     ]
    }
   ],
   "source": [
    "class Contador:\n",
    "    def __init__(self, limite):\n",
    "        self.limite = limite \n",
    "        self.contador = 0\n",
    "        \n",
    "    def __iter__(self):\n",
    "        return self\n",
    "    \n",
    "    def __next__(self):\n",
    "        if self.contador < self.limite:\n",
    "            valor = self.contador\n",
    "            self.contador +=1\n",
    "            return valor\n",
    "        else:\n",
    "            raise StopIteration\n",
    "        \n",
    "#Uso del iterador\n",
    "iterador = Contador(10)\n",
    "for num in iterador:\n",
    "    print(num)"
   ]
  },
  {
   "cell_type": "markdown",
   "metadata": {},
   "source": [
    "### Ejemplo"
   ]
  },
  {
   "cell_type": "code",
   "execution_count": 23,
   "metadata": {},
   "outputs": [
    {
     "name": "stdout",
     "output_type": "stream",
     "text": [
      "Turno: 1\n",
      "Turno: 2\n",
      "Turno: 3\n",
      "Turno: 4\n",
      "Turno: 5\n",
      "Turno: 6\n",
      "Turno: 7\n",
      "Turno: 8\n",
      "Turno: 9\n",
      "Turno: 10\n"
     ]
    }
   ],
   "source": [
    "class Turnos:\n",
    "    def __init__(self, max_turno =100 ):\n",
    "        self.max_turno = max_turno \n",
    "        self.turno_actual = 0\n",
    "        \n",
    "    def __iter__(self):\n",
    "        return self\n",
    "    \n",
    "    def __next__(self):\n",
    "        if self.turno_actual < self.max_turno:\n",
    "            self.turno_actual +=1\n",
    "        else:\n",
    "            self.turno_actual = 1\n",
    "        return f\"Turno: {self.turno_actual}\"\n",
    "    \n",
    "turno = Turnos()\n",
    "\n",
    "for _ in range(10):\n",
    "    print(next(turno))\n",
    "    "
   ]
  },
  {
   "cell_type": "markdown",
   "metadata": {},
   "source": [
    "## Generadores\n",
    "\n",
    "Un **generador** es una forma más eficiente de crear un itereador.Se usa cuando no almacenar todas las secuencia en memoria, si no **producir valores sobre la marcha** con `yield`  "
   ]
  },
  {
   "cell_type": "code",
   "execution_count": 29,
   "metadata": {},
   "outputs": [
    {
     "name": "stdout",
     "output_type": "stream",
     "text": [
      "Temperatura actual: 11.03°C\n"
     ]
    }
   ],
   "source": [
    "import random\n",
    "import time\n",
    "\n",
    "def sensor_clima():\n",
    "    while True:\n",
    "        temperatura = round(random.uniform(10.0,35.0),2)\n",
    "        yield f\"Temperatura actual: {temperatura}°C\"\n",
    "        time.sleep(2)\n",
    "        break\n",
    "        \n",
    "for lectura in sensor_clima():\n",
    "    print(lectura)"
   ]
  },
  {
   "cell_type": "markdown",
   "metadata": {},
   "source": [
    "\"\"\"\n",
    "### **Diferencias entre `return` y `yield` en Python**\n",
    "\n",
    "## **1. `return`: Finaliza la función y devuelve un valor**\n",
    "- Detiene completamente la ejecución de la función.\n",
    "- Devuelve un único valor (o varios en forma de tupla).\n",
    "- No conserva el estado de la función entre llamadas.\n",
    "\n",
    "### **Ejemplo con `return`**\n",
    "```python\n",
    " def numeros_return():\n",
    "     return [1, 2, 3]  # Retorna una lista completa\n",
    "\n",
    " print(numeros_return())  # Salida: [1, 2, 3]\n",
    "```\n",
    "\n",
    "---\n",
    "\n",
    "## **2. `yield`: Genera valores bajo demanda**\n",
    "- Permite que la función devuelva múltiples valores, uno a la vez.\n",
    "- La ejecución de la función se pausa en `yield` y se reanuda cuando se llama a `next()`.\n",
    "- Usa menos memoria porque no almacena todos los valores en una lista.\n",
    "\n",
    "### **Ejemplo con `yield`**\n",
    "```python\n",
    " def numeros_yield():\n",
    "     yield 1\n",
    "     yield 2\n",
    "     yield 3\n",
    "\n",
    " gen = numeros_yield()\n",
    " print(next(gen))  # Salida: 1\n",
    " print(next(gen))  # Salida: 2\n",
    " print(next(gen))  # Salida: 3\n",
    "```\n",
    "\n",
    "---\n",
    "\n",
    "## **3. Diferencias Claves**\n",
    "\n",
    "| Característica  | `return` | `yield` |\n",
    "|---------------|---------|--------|\n",
    "| Devuelve valores  | Solo una vez | Múltiples veces |\n",
    "| Conserva estado  | No | Sí |\n",
    "| Uso de memoria  | Alto (almacena todos los valores) | Bajo (genera valores bajo demanda) |\n",
    "| Tipo de función | Función normal | Generador |\n",
    "\n",
    "---\n",
    "\n",
    "## **4. Ejemplo Comparativo**\n",
    "\n",
    "```python\n",
    " # Usando return (devuelve una lista completa)\n",
    " def lista_numeros():\n",
    "     return [1, 2, 3, 4, 5]\n",
    "\n",
    " # Usando yield (genera números uno por uno)\n",
    " def generador_numeros():\n",
    "     for i in range(1, 6):\n",
    "         yield i\n",
    "\n",
    " print(lista_numeros())  # Salida: [1, 2, 3, 4, 5]\n",
    "\n",
    " gen = generador_numeros()\n",
    " print(next(gen))  # Salida: 1\n",
    " print(next(gen))  # Salida: 2\n",
    "```\n",
    "\n",
    "✅ **Usa `return` cuando necesitas devolver un resultado completo de inmediato.**\n",
    "✅ **Usa `yield` cuando necesitas generar valores de manera eficiente sin cargar todo en memoria.**\n",
    "\"\"\""
   ]
  },
  {
   "cell_type": "code",
   "execution_count": 13,
   "metadata": {},
   "outputs": [
    {
     "name": "stdout",
     "output_type": "stream",
     "text": [
      "[0, 1, 2, 3, 4, 5, 6, 7, 8, 9]\n"
     ]
    }
   ],
   "source": [
    "def numeros_hasta(n):\n",
    "    lista = []\n",
    "    for i in range(n):\n",
    "        lista.append(i)\n",
    "    return lista \n",
    "\n",
    "print(numeros_hasta(10))"
   ]
  },
  {
   "cell_type": "code",
   "execution_count": 20,
   "metadata": {},
   "outputs": [],
   "source": [
    "def numeros_hasta_2(n):\n",
    "    for i in range(n):\n",
    "        yield i #pausa la funcion\n",
    "        \n",
    "gen = numeros_hasta_2(10)"
   ]
  },
  {
   "cell_type": "code",
   "execution_count": 30,
   "metadata": {},
   "outputs": [
    {
     "name": "stdout",
     "output_type": "stream",
     "text": [
      "2\n"
     ]
    }
   ],
   "source": [
    "print(next(gen))"
   ]
  },
  {
   "cell_type": "code",
   "execution_count": 31,
   "metadata": {},
   "outputs": [
    {
     "name": "stdout",
     "output_type": "stream",
     "text": [
      "3\n"
     ]
    }
   ],
   "source": [
    "print(next(gen))"
   ]
  },
  {
   "cell_type": "markdown",
   "metadata": {},
   "source": [
    "### Conclusión\n",
    "\n",
    "- Usa `retunr` **Cuando necesitas el resultado completo de inmediato**\n",
    "- Usa `yield` **Cunado necesitas generar valores de manera eficiente sin cargar toda la memoria**"
   ]
  }
 ],
 "metadata": {
  "kernelspec": {
   "display_name": "Python 3",
   "language": "python",
   "name": "python3"
  },
  "language_info": {
   "codemirror_mode": {
    "name": "ipython",
    "version": 3
   },
   "file_extension": ".py",
   "mimetype": "text/x-python",
   "name": "python",
   "nbconvert_exporter": "python",
   "pygments_lexer": "ipython3",
   "version": "3.13.2"
  }
 },
 "nbformat": 4,
 "nbformat_minor": 2
}
