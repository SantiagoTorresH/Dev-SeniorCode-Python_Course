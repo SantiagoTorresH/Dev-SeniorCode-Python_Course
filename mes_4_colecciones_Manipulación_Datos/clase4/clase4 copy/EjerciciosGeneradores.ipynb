{
 "cells": [
  {
   "cell_type": "markdown",
   "metadata": {},
   "source": [
    "# **Ejercicios de Iteradores en Python**  \n",
    "\n",
    "1. **Iterador Personalizado**  \n",
    "   Crea una clase que implemente un iterador para generar los primeros `n` números pares. "
   ]
  },
  {
   "cell_type": "code",
   "execution_count": 2,
   "metadata": {},
   "outputs": [
    {
     "name": "stdout",
     "output_type": "stream",
     "text": [
      "0\n",
      "2\n",
      "4\n",
      "6\n",
      "8\n",
      "10\n",
      "12\n",
      "14\n",
      "16\n",
      "18\n"
     ]
    }
   ],
   "source": [
    "class iteradoresPares:\n",
    "    def __init__(self, n):\n",
    "        self.n = n\n",
    "        self.contador = 0\n",
    "        self.valor_actual = 0\n",
    "        \n",
    "    def __iter__(self):\n",
    "        return self\n",
    "    \n",
    "    def __next__(self):\n",
    "        if self.contador >= self.n:\n",
    "            raise StopIteration\n",
    "        par = self.valor_actual\n",
    "        self.valor_actual += 2\n",
    "        self.contador += 1 \n",
    "        return par \n",
    "            \n",
    "            \n",
    "n = 10 \n",
    "iterador = iteradoresPares(n)\n",
    "for numero in iterador:\n",
    "    print(numero)        "
   ]
  },
  {
   "cell_type": "code",
   "execution_count": 1,
   "metadata": {},
   "outputs": [
    {
     "name": "stdout",
     "output_type": "stream",
     "text": [
      "0\n",
      "2\n",
      "4\n",
      "6\n",
      "8\n"
     ]
    }
   ],
   "source": [
    "class GeneradorPares:\n",
    "    def __init__(self, n):\n",
    "        self.n = n         # El número de pares que queremos generar\n",
    "        self.contador = 0  # El contador para los números pares generados\n",
    "\n",
    "    def __iter__(self):\n",
    "        return self  # El iterador es el propio objeto\n",
    "\n",
    "    def __next__(self):\n",
    "        if self.contador < self.n:\n",
    "            # El siguiente número par es 2 * contador\n",
    "            resultado = 2 * self.contador\n",
    "            self.contador += 1  # Aumentamos el contador\n",
    "            return resultado\n",
    "        else:\n",
    "            # Si ya generamos n números pares, lanzamos StopIteration\n",
    "            raise StopIteration\n",
    "\n",
    "# Ejemplo de uso:\n",
    "n = 5  # Queremos los primeros 5 números pares\n",
    "pares = GeneradorPares(n)\n",
    "\n",
    "for par in pares:\n",
    "    print(par)"
   ]
  },
  {
   "cell_type": "code",
   "execution_count": null,
   "metadata": {},
   "outputs": [],
   "source": []
  },
  {
   "cell_type": "markdown",
   "metadata": {},
   "source": [
    "2. **Iteración sobre un Archivo**  \n",
    "   Implementa un iterador que lea un archivo de texto línea por línea sin cargarlo completamente en memoria.  \n"
   ]
  },
  {
   "cell_type": "code",
   "execution_count": 2,
   "metadata": {},
   "outputs": [
    {
     "name": "stdout",
     "output_type": "stream",
     "text": [
      "FunciÃ³n generadora (leer_lineas_archivo): Esta funciÃ³n utiliza un generador con yield para producir cada lÃ­nea del archivo cuando se necesite.\n",
      "Manejo del archivo: Usamos open para abrir el archivo en modo lectura ('r'), y luego iteramos sobre cada lÃ­nea del archivo.\n",
      "Uso de yield: En lugar de devolver todas las lÃ­neas de una vez, yield entrega una lÃ­nea a la vez y mantiene el estado del generador. Esto es muy eficiente, ya que no se carga todo el archivo en memoria.\n",
      "IteraciÃ³n: Al usar el generador en un bucle for, las lÃ­neas del archivo se leen y se procesan una por una.\n"
     ]
    }
   ],
   "source": [
    "def leer_lineas_archivo(archivo):\n",
    "    \"\"\"Generador que lee un archivo línea por línea.\"\"\"\n",
    "    with open(archivo, 'r') as f:\n",
    "        for linea in f:\n",
    "            yield linea.strip()  # Usamos .strip() para eliminar saltos de línea extra\n",
    "\n",
    "# Uso del generador\n",
    "archivo = 'archivo.txt'  # Sustituye con la ruta a tu archivo de texto\n",
    "\n",
    "# Iteramos sobre las líneas del archivo usando el generador\n",
    "for linea in leer_lineas_archivo(archivo):\n",
    "    print(linea)"
   ]
  },
  {
   "cell_type": "markdown",
   "metadata": {},
   "source": [
    "3. **Iterador de Fibonacci**  \n",
    "   Diseña un iterador que genere la secuencia de Fibonacci hasta un número `n` de elementos.  \n"
   ]
  },
  {
   "cell_type": "code",
   "execution_count": 3,
   "metadata": {},
   "outputs": [
    {
     "name": "stdout",
     "output_type": "stream",
     "text": [
      "Primeros 10 números de Fibonacci:\n",
      "0\n",
      "1\n",
      "1\n",
      "2\n",
      "3\n",
      "5\n",
      "8\n",
      "13\n",
      "21\n",
      "34\n"
     ]
    }
   ],
   "source": [
    "def fibonacci(n):\n",
    "    \"\"\"Generador que devuelve los primeros n números de la secuencia de Fibonacci.\"\"\"\n",
    "    a, b = 0, 1  # Primeros dos números de Fibonacci\n",
    "    for _ in range(n):\n",
    "        yield a  # Devuelve el valor de a en cada iteración\n",
    "        a, b = b, a + b  # Calcula el siguiente número de Fibonacci\n",
    "\n",
    "# Uso del generador\n",
    "n = 10  # Número de elementos en la secuencia\n",
    "print(f\"Primeros {n} números de Fibonacci:\")\n",
    "for num in fibonacci(n):\n",
    "    print(num)"
   ]
  },
  {
   "cell_type": "markdown",
   "metadata": {},
   "source": [
    "4. **Iterador de Números Primos**  \n",
    "   Crea un iterador que devuelva los primeros `n` números primos.  "
   ]
  },
  {
   "cell_type": "code",
   "execution_count": 5,
   "metadata": {},
   "outputs": [
    {
     "name": "stdout",
     "output_type": "stream",
     "text": [
      "Primeros 10 números primos:\n",
      "2\n",
      "3\n",
      "5\n",
      "7\n",
      "11\n",
      "13\n",
      "17\n",
      "19\n",
      "23\n",
      "29\n"
     ]
    }
   ],
   "source": [
    "def es_primo(num):\n",
    "    \"\"\"Función que verifica si un número es primo.\"\"\"\n",
    "    if num < 2:\n",
    "        return False\n",
    "    for i in range(2, int(num ** 0.5) + 1):\n",
    "        if num % i == 0:\n",
    "            return False\n",
    "    return True\n",
    "\n",
    "def primos(n):\n",
    "    \"\"\"Generador que devuelve los primeros n números primos.\"\"\"\n",
    "    count = 0  # Contador de números primos encontrados\n",
    "    num = 2  # Empezamos desde el primer número primo\n",
    "\n",
    "    while count < n:\n",
    "        if es_primo(num):\n",
    "            yield num\n",
    "            count += 1\n",
    "        num += 1\n",
    "\n",
    "# Uso del generador\n",
    "n = 10  # Número de números primos que queremos\n",
    "print(f\"Primeros {n} números primos:\")\n",
    "for primo in primos(n):\n",
    "    print(primo)"
   ]
  },
  {
   "cell_type": "markdown",
   "metadata": {},
   "source": [
    "5. **Iterador con `iter()` y `next()`**  \n",
    "   Usa `iter()` y `next()` para recorrer una lista sin usar un bucle `for`.  "
   ]
  },
  {
   "cell_type": "code",
   "execution_count": 4,
   "metadata": {},
   "outputs": [
    {
     "name": "stdout",
     "output_type": "stream",
     "text": [
      "Elementos de la lista usando iter() y next():\n",
      "10\n",
      "20\n",
      "30\n",
      "40\n",
      "50\n"
     ]
    }
   ],
   "source": [
    "# Lista de ejemplo\n",
    "mi_lista = [10, 20, 30, 40, 50]\n",
    "\n",
    "# Creamos un iterador a partir de la lista\n",
    "iterador = iter(mi_lista)\n",
    "\n",
    "# Usamos next() para recorrer los elementos de la lista\n",
    "print(\"Elementos de la lista usando iter() y next():\")\n",
    "while True:\n",
    "    try:\n",
    "        # Obtiene el siguiente elemento\n",
    "        elemento = next(iterador)\n",
    "        print(elemento)\n",
    "    except StopIteration:\n",
    "        # Cuando no haya más elementos, StopIteration se lanza y salimos del bucle\n",
    "        break"
   ]
  },
  {
   "cell_type": "markdown",
   "metadata": {},
   "source": [
    "6. **Iterador de Caracteres en una Cadena**  \n",
    "   Implementa un iterador que devuelva cada carácter de una cadena uno por uno.  "
   ]
  },
  {
   "cell_type": "code",
   "execution_count": 6,
   "metadata": {},
   "outputs": [
    {
     "name": "stdout",
     "output_type": "stream",
     "text": [
      "Caracteres de la cadena usando iter() y next():\n",
      "H\n",
      "o\n",
      "l\n",
      "a\n",
      " \n",
      "M\n",
      "u\n",
      "n\n",
      "d\n",
      "o\n"
     ]
    }
   ],
   "source": [
    "# Cadena de ejemplo\n",
    "mi_cadena = \"Hola Mundo\"\n",
    "\n",
    "# Creamos un iterador a partir de la cadena\n",
    "iterador = iter(mi_cadena)\n",
    "\n",
    "# Usamos next() para recorrer cada carácter de la cadena\n",
    "print(\"Caracteres de la cadena usando iter() y next():\")\n",
    "while True:\n",
    "    try:\n",
    "        # Obtiene el siguiente carácter\n",
    "        caracter = next(iterador)\n",
    "        print(caracter)\n",
    "    except StopIteration:\n",
    "        # Cuando no haya más caracteres, StopIteration se lanza y salimos del bucle\n",
    "        break"
   ]
  },
  {
   "cell_type": "markdown",
   "metadata": {},
   "source": [
    "7. **Iterador con Paso Personalizado**  \n",
    "   Construye un iterador que genere una secuencia de números desde `a` hasta `b` con un incremento personalizado.  \n"
   ]
  },
  {
   "cell_type": "code",
   "execution_count": 7,
   "metadata": {},
   "outputs": [
    {
     "name": "stdout",
     "output_type": "stream",
     "text": [
      "Secuencia de números desde 5 hasta 20 con paso 3:\n",
      "5\n",
      "8\n",
      "11\n",
      "14\n",
      "17\n",
      "20\n"
     ]
    }
   ],
   "source": [
    "\n",
    "def secuencia_con_paso(a, b, paso):\n",
    "    \"\"\"Generador que devuelve una secuencia de números desde a hasta b con un incremento paso.\"\"\"\n",
    "    while a <= b:\n",
    "        yield a\n",
    "        a += paso  # Incrementa a por el valor del paso\n",
    "\n",
    "# Uso del generador\n",
    "inicio = 5   # Valor de a\n",
    "fin = 20     # Valor de b\n",
    "paso = 3     # Paso personalizado\n",
    "\n",
    "print(f\"Secuencia de números desde {inicio} hasta {fin} con paso {paso}:\")\n",
    "for numero in secuencia_con_paso(inicio, fin, paso):\n",
    "    print(numero)"
   ]
  },
  {
   "cell_type": "markdown",
   "metadata": {},
   "source": [
    "8. **Iterador Circular**  \n",
    "   Crea un iterador que recorra los elementos de una lista en un bucle infinito.  "
   ]
  },
  {
   "cell_type": "code",
   "execution_count": null,
   "metadata": {},
   "outputs": [],
   "source": []
  },
  {
   "cell_type": "markdown",
   "metadata": {},
   "source": [
    "9. **Iterador con Estado Persistente**  \n",
    "   Diseña un iterador que recuerde su estado entre ejecuciones, incluso si se pausa. "
   ]
  },
  {
   "cell_type": "code",
   "execution_count": null,
   "metadata": {},
   "outputs": [],
   "source": []
  },
  {
   "cell_type": "markdown",
   "metadata": {},
   "source": [
    "10. **Iterador para Filtrar Elementos**  \n",
    "   Implementa un iterador que filtre y devuelva solo los números impares de una lista dada.  "
   ]
  },
  {
   "cell_type": "code",
   "execution_count": null,
   "metadata": {},
   "outputs": [],
   "source": []
  }
 ],
 "metadata": {
  "kernelspec": {
   "display_name": "Python 3",
   "language": "python",
   "name": "python3"
  },
  "language_info": {
   "codemirror_mode": {
    "name": "ipython",
    "version": 3
   },
   "file_extension": ".py",
   "mimetype": "text/x-python",
   "name": "python",
   "nbconvert_exporter": "python",
   "pygments_lexer": "ipython3",
   "version": "3.13.0"
  }
 },
 "nbformat": 4,
 "nbformat_minor": 2
}
