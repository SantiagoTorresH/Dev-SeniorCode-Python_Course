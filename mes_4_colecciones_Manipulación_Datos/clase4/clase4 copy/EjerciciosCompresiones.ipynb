{
 "cells": [
  {
   "cell_type": "markdown",
   "metadata": {},
   "source": [
    "# **Ejercicios de Comprensiones en Python**  \n",
    "\n",
    "1. **Lista de Cuadrados**  \n",
    "   Usa una comprensión de lista para generar una lista con los cuadrados de los primeros `n` números naturales.  \n"
   ]
  },
  {
   "cell_type": "code",
   "execution_count": 1,
   "metadata": {},
   "outputs": [
    {
     "name": "stdout",
     "output_type": "stream",
     "text": [
      "[1, 4, 9, 16, 25, 36, 49, 64, 81, 100, 121, 144, 169, 196, 225, 256, 289, 324, 361, 400]\n"
     ]
    }
   ],
   "source": [
    "n = 20\n",
    "cuadrados = [x **2 for x in range(1, n+1)]\n",
    "print(cuadrados)                     "
   ]
  },
  {
   "cell_type": "code",
   "execution_count": null,
   "metadata": {},
   "outputs": [],
   "source": []
  },
  {
   "cell_type": "markdown",
   "metadata": {},
   "source": [
    "2. **Filtrar Números Pares**  \n",
    "   Crea una comprensión de lista que filtre los números pares de una lista dada.  "
   ]
  },
  {
   "cell_type": "code",
   "execution_count": 1,
   "metadata": {},
   "outputs": [
    {
     "name": "stdout",
     "output_type": "stream",
     "text": [
      "[2, 4, 6, 8, 10, 12, 14, 16, 18, 20, 22, 24]\n"
     ]
    }
   ],
   "source": [
    "lista = list(range(1,25))\n",
    "numeros_pares = [x for x in lista if x % 2 == 0]\n",
    "print(numeros_pares)"
   ]
  },
  {
   "cell_type": "markdown",
   "metadata": {},
   "source": [
    "3. **Longitud de Palabras**  \n",
    "   Dada una lista de palabras, usa una comprensión de lista para obtener una lista con la longitud de cada palabra.  \n"
   ]
  },
  {
   "cell_type": "code",
   "execution_count": 2,
   "metadata": {},
   "outputs": [
    {
     "name": "stdout",
     "output_type": "stream",
     "text": [
      "[6, 12]\n"
     ]
    }
   ],
   "source": [
    "palabras = [\"python\", \"compresiones\"]\n",
    "longitud = [len(palabra) for palabra in palabras]\n",
    "print(longitud)"
   ]
  },
  {
   "cell_type": "markdown",
   "metadata": {},
   "source": [
    "4. **Convertir Texto a Mayúsculas**  \n",
    "   Usa una comprensión de lista para transformar todas las palabras de una lista en mayúsculas.  \n"
   ]
  },
  {
   "cell_type": "code",
   "execution_count": 3,
   "metadata": {},
   "outputs": [
    {
     "ename": "NameError",
     "evalue": "name 'palabras' is not defined",
     "output_type": "error",
     "traceback": [
      "\u001b[31m---------------------------------------------------------------------------\u001b[39m",
      "\u001b[31mNameError\u001b[39m                                 Traceback (most recent call last)",
      "\u001b[36mCell\u001b[39m\u001b[36m \u001b[39m\u001b[32mIn[3]\u001b[39m\u001b[32m, line 1\u001b[39m\n\u001b[32m----> \u001b[39m\u001b[32m1\u001b[39m palabras_mayusculas = [palabra.upper() \u001b[38;5;28;01mfor\u001b[39;00m palabra \u001b[38;5;129;01min\u001b[39;00m \u001b[43mpalabras\u001b[49m]\n\u001b[32m      2\u001b[39m \u001b[38;5;28mprint\u001b[39m(palabras_mayusculas)\n",
      "\u001b[31mNameError\u001b[39m: name 'palabras' is not defined"
     ]
    }
   ],
   "source": [
    "palabras_mayusculas = [palabra.upper() for palabra in palabras]\n",
    "print(palabras_mayusculas)"
   ]
  },
  {
   "cell_type": "markdown",
   "metadata": {},
   "source": [
    "5. **Diccionario de Cuadrados**  \n",
    "   Crea una comprensión de diccionario donde las claves sean números del `1` al `n` y los valores sean sus cuadrados.  \n"
   ]
  },
  {
   "cell_type": "code",
   "execution_count": 2,
   "metadata": {},
   "outputs": [
    {
     "name": "stdout",
     "output_type": "stream",
     "text": [
      "{1: 1, 2: 4, 3: 9, 4: 16, 5: 25, 6: 36, 7: 49, 8: 64, 9: 81, 10: 100, 11: 121, 12: 144, 13: 169, 14: 196, 15: 225, 16: 256, 17: 289, 18: 324, 19: 361, 20: 400}\n"
     ]
    }
   ],
   "source": [
    "\n",
    "dict_cuadrados = {x:x **2 for x in range(1, n+1)} \n",
    "print(dict_cuadrados)"
   ]
  },
  {
   "cell_type": "markdown",
   "metadata": {},
   "source": [
    "6. **Filtrar y Transformar**  \n",
    "   Genera una lista con los cubos de los números impares de una lista dada usando una sola comprensión.  \n"
   ]
  },
  {
   "cell_type": "code",
   "execution_count": null,
   "metadata": {},
   "outputs": [],
   "source": [
    "lista = list(range(1,25))\n",
    "numeros_pares = [x for x in lista if x % 2 != 0]\n",
    "print(numeros_pares)"
   ]
  },
  {
   "cell_type": "markdown",
   "metadata": {},
   "source": [
    "7. **Invertir Claves y Valores**  \n",
    "   Dado un diccionario, usa una comprensión de diccionario para intercambiar sus claves y valores.  \n"
   ]
  },
  {
   "cell_type": "code",
   "execution_count": null,
   "metadata": {},
   "outputs": [],
   "source": [
    "dict_invertido = {valor: clave for clave, valor in dict_cuadrados.items()}\n",
    "print(dict_invertido)\n"
   ]
  },
  {
   "cell_type": "markdown",
   "metadata": {},
   "source": [
    "8. **Palabras con más de 5 Letras**  \n",
    "   Usa una comprensión de lista para extraer de una lista de palabras solo aquellas que tengan más de 5 letras.  \n"
   ]
  },
  {
   "cell_type": "code",
   "execution_count": null,
   "metadata": {},
   "outputs": [],
   "source": [
    "palbras_largas = [palabra for palabra in palabras if len(palabra) > 10]\n",
    "print(palbras_largas)"
   ]
  },
  {
   "cell_type": "markdown",
   "metadata": {},
   "source": [
    "9. **Unir Listas en un Diccionario**  \n",
    "   Dadas dos listas, una con nombres y otra con edades, crea un diccionario donde los nombres sean claves y las edades valores.  \n"
   ]
  },
  {
   "cell_type": "code",
   "execution_count": null,
   "metadata": {},
   "outputs": [],
   "source": [
    "nombres = [\"Ana\", \"Santiago\"]\n",
    "edades = [25,34]\n",
    "dict_nombre_edad = {nombres[i]:edades[i] for i in range}"
   ]
  },
  {
   "cell_type": "markdown",
   "metadata": {},
   "source": [
    "10. **Eliminar Vocales de una Cadena**  \n",
    "   Usa una comprensión de lista para eliminar todas las vocales de una cadena dada y devolver el texto sin ellas.  "
   ]
  },
  {
   "cell_type": "code",
   "execution_count": 4,
   "metadata": {},
   "outputs": [
    {
     "name": "stdout",
     "output_type": "stream",
     "text": [
      "Hl, ¿cóm stás?\n"
     ]
    }
   ],
   "source": [
    "def eliminar_vocales(cadena):\n",
    "    # Definir las vocales (en minúsculas y mayúsculas para que funcione con ambas)\n",
    "    vocales = \"aeiouAEIOU\"\n",
    "    \n",
    "    # Usar comprensión de lista para filtrar las vocales\n",
    "    resultado = ''.join([caracter for caracter in cadena if caracter not in vocales])\n",
    "    \n",
    "    return resultado\n",
    "\n",
    "# Ejemplo de uso\n",
    "texto = \"Hola, ¿cómo estás?\"\n",
    "texto_sin_vocales = eliminar_vocales(texto)\n",
    "print(texto_sin_vocales)"
   ]
  }
 ],
 "metadata": {
  "kernelspec": {
   "display_name": "Python 3",
   "language": "python",
   "name": "python3"
  },
  "language_info": {
   "codemirror_mode": {
    "name": "ipython",
    "version": 3
   },
   "file_extension": ".py",
   "mimetype": "text/x-python",
   "name": "python",
   "nbconvert_exporter": "python",
   "pygments_lexer": "ipython3",
   "version": "3.13.0"
  }
 },
 "nbformat": 4,
 "nbformat_minor": 2
}
